{
  "metadata": {
    "kernelspec": {
      "display_name": "Python 3",
      "name": "python3"
    },
    "language_info": {
      "name": "python",
      "version": "3.10.10",
      "mimetype": "text/x-python",
      "codemirror_mode": {
        "name": "ipython",
        "version": 3
      },
      "pygments_lexer": "ipython3",
      "nbconvert_exporter": "python",
      "file_extension": ".py"
    },
    "colab": {
      "provenance": [],
      "gpuType": "T4"
    },
    "accelerator": "GPU",
    "widgets": {
      "application/vnd.jupyter.widget-state+json": {
        "afd772a3cf92451287b98c313647453c": {
          "model_module": "@jupyter-widgets/controls",
          "model_name": "HBoxModel",
          "model_module_version": "1.5.0",
          "state": {
            "_dom_classes": [],
            "_model_module": "@jupyter-widgets/controls",
            "_model_module_version": "1.5.0",
            "_model_name": "HBoxModel",
            "_view_count": null,
            "_view_module": "@jupyter-widgets/controls",
            "_view_module_version": "1.5.0",
            "_view_name": "HBoxView",
            "box_style": "",
            "children": [
              "IPY_MODEL_56f8b61602f04791977da819f440ea4e",
              "IPY_MODEL_7c276a0cbedb48559bff77dd44f4d05d",
              "IPY_MODEL_9367a893cc66421b9b51767444f1762d"
            ],
            "layout": "IPY_MODEL_968542fb19cc4876952d978a241d9e26"
          }
        },
        "56f8b61602f04791977da819f440ea4e": {
          "model_module": "@jupyter-widgets/controls",
          "model_name": "HTMLModel",
          "model_module_version": "1.5.0",
          "state": {
            "_dom_classes": [],
            "_model_module": "@jupyter-widgets/controls",
            "_model_module_version": "1.5.0",
            "_model_name": "HTMLModel",
            "_view_count": null,
            "_view_module": "@jupyter-widgets/controls",
            "_view_module_version": "1.5.0",
            "_view_name": "HTMLView",
            "description": "",
            "description_tooltip": null,
            "layout": "IPY_MODEL_f13d4fa1d4964e9d8736eb0d7942a83d",
            "placeholder": "​",
            "style": "IPY_MODEL_be9b362164324610adabf2a401014bcc",
            "value": "Downloading builder script: 100%"
          }
        },
        "7c276a0cbedb48559bff77dd44f4d05d": {
          "model_module": "@jupyter-widgets/controls",
          "model_name": "FloatProgressModel",
          "model_module_version": "1.5.0",
          "state": {
            "_dom_classes": [],
            "_model_module": "@jupyter-widgets/controls",
            "_model_module_version": "1.5.0",
            "_model_name": "FloatProgressModel",
            "_view_count": null,
            "_view_module": "@jupyter-widgets/controls",
            "_view_module_version": "1.5.0",
            "_view_name": "ProgressView",
            "bar_style": "success",
            "description": "",
            "description_tooltip": null,
            "layout": "IPY_MODEL_3610033db61d4db59b79aefc3380980d",
            "max": 6270,
            "min": 0,
            "orientation": "horizontal",
            "style": "IPY_MODEL_9cb1cb6469694b27914e163561914ca6",
            "value": 6270
          }
        },
        "9367a893cc66421b9b51767444f1762d": {
          "model_module": "@jupyter-widgets/controls",
          "model_name": "HTMLModel",
          "model_module_version": "1.5.0",
          "state": {
            "_dom_classes": [],
            "_model_module": "@jupyter-widgets/controls",
            "_model_module_version": "1.5.0",
            "_model_name": "HTMLModel",
            "_view_count": null,
            "_view_module": "@jupyter-widgets/controls",
            "_view_module_version": "1.5.0",
            "_view_name": "HTMLView",
            "description": "",
            "description_tooltip": null,
            "layout": "IPY_MODEL_714e083a9f9f4524a819fe779e15dc74",
            "placeholder": "​",
            "style": "IPY_MODEL_9e06782d6fad4048a78085c519387c93",
            "value": " 6.27k/6.27k [00:00&lt;00:00, 431kB/s]"
          }
        },
        "968542fb19cc4876952d978a241d9e26": {
          "model_module": "@jupyter-widgets/base",
          "model_name": "LayoutModel",
          "model_module_version": "1.2.0",
          "state": {
            "_model_module": "@jupyter-widgets/base",
            "_model_module_version": "1.2.0",
            "_model_name": "LayoutModel",
            "_view_count": null,
            "_view_module": "@jupyter-widgets/base",
            "_view_module_version": "1.2.0",
            "_view_name": "LayoutView",
            "align_content": null,
            "align_items": null,
            "align_self": null,
            "border": null,
            "bottom": null,
            "display": null,
            "flex": null,
            "flex_flow": null,
            "grid_area": null,
            "grid_auto_columns": null,
            "grid_auto_flow": null,
            "grid_auto_rows": null,
            "grid_column": null,
            "grid_gap": null,
            "grid_row": null,
            "grid_template_areas": null,
            "grid_template_columns": null,
            "grid_template_rows": null,
            "height": null,
            "justify_content": null,
            "justify_items": null,
            "left": null,
            "margin": null,
            "max_height": null,
            "max_width": null,
            "min_height": null,
            "min_width": null,
            "object_fit": null,
            "object_position": null,
            "order": null,
            "overflow": null,
            "overflow_x": null,
            "overflow_y": null,
            "padding": null,
            "right": null,
            "top": null,
            "visibility": null,
            "width": null
          }
        },
        "f13d4fa1d4964e9d8736eb0d7942a83d": {
          "model_module": "@jupyter-widgets/base",
          "model_name": "LayoutModel",
          "model_module_version": "1.2.0",
          "state": {
            "_model_module": "@jupyter-widgets/base",
            "_model_module_version": "1.2.0",
            "_model_name": "LayoutModel",
            "_view_count": null,
            "_view_module": "@jupyter-widgets/base",
            "_view_module_version": "1.2.0",
            "_view_name": "LayoutView",
            "align_content": null,
            "align_items": null,
            "align_self": null,
            "border": null,
            "bottom": null,
            "display": null,
            "flex": null,
            "flex_flow": null,
            "grid_area": null,
            "grid_auto_columns": null,
            "grid_auto_flow": null,
            "grid_auto_rows": null,
            "grid_column": null,
            "grid_gap": null,
            "grid_row": null,
            "grid_template_areas": null,
            "grid_template_columns": null,
            "grid_template_rows": null,
            "height": null,
            "justify_content": null,
            "justify_items": null,
            "left": null,
            "margin": null,
            "max_height": null,
            "max_width": null,
            "min_height": null,
            "min_width": null,
            "object_fit": null,
            "object_position": null,
            "order": null,
            "overflow": null,
            "overflow_x": null,
            "overflow_y": null,
            "padding": null,
            "right": null,
            "top": null,
            "visibility": null,
            "width": null
          }
        },
        "be9b362164324610adabf2a401014bcc": {
          "model_module": "@jupyter-widgets/controls",
          "model_name": "DescriptionStyleModel",
          "model_module_version": "1.5.0",
          "state": {
            "_model_module": "@jupyter-widgets/controls",
            "_model_module_version": "1.5.0",
            "_model_name": "DescriptionStyleModel",
            "_view_count": null,
            "_view_module": "@jupyter-widgets/base",
            "_view_module_version": "1.2.0",
            "_view_name": "StyleView",
            "description_width": ""
          }
        },
        "3610033db61d4db59b79aefc3380980d": {
          "model_module": "@jupyter-widgets/base",
          "model_name": "LayoutModel",
          "model_module_version": "1.2.0",
          "state": {
            "_model_module": "@jupyter-widgets/base",
            "_model_module_version": "1.2.0",
            "_model_name": "LayoutModel",
            "_view_count": null,
            "_view_module": "@jupyter-widgets/base",
            "_view_module_version": "1.2.0",
            "_view_name": "LayoutView",
            "align_content": null,
            "align_items": null,
            "align_self": null,
            "border": null,
            "bottom": null,
            "display": null,
            "flex": null,
            "flex_flow": null,
            "grid_area": null,
            "grid_auto_columns": null,
            "grid_auto_flow": null,
            "grid_auto_rows": null,
            "grid_column": null,
            "grid_gap": null,
            "grid_row": null,
            "grid_template_areas": null,
            "grid_template_columns": null,
            "grid_template_rows": null,
            "height": null,
            "justify_content": null,
            "justify_items": null,
            "left": null,
            "margin": null,
            "max_height": null,
            "max_width": null,
            "min_height": null,
            "min_width": null,
            "object_fit": null,
            "object_position": null,
            "order": null,
            "overflow": null,
            "overflow_x": null,
            "overflow_y": null,
            "padding": null,
            "right": null,
            "top": null,
            "visibility": null,
            "width": null
          }
        },
        "9cb1cb6469694b27914e163561914ca6": {
          "model_module": "@jupyter-widgets/controls",
          "model_name": "ProgressStyleModel",
          "model_module_version": "1.5.0",
          "state": {
            "_model_module": "@jupyter-widgets/controls",
            "_model_module_version": "1.5.0",
            "_model_name": "ProgressStyleModel",
            "_view_count": null,
            "_view_module": "@jupyter-widgets/base",
            "_view_module_version": "1.2.0",
            "_view_name": "StyleView",
            "bar_color": null,
            "description_width": ""
          }
        },
        "714e083a9f9f4524a819fe779e15dc74": {
          "model_module": "@jupyter-widgets/base",
          "model_name": "LayoutModel",
          "model_module_version": "1.2.0",
          "state": {
            "_model_module": "@jupyter-widgets/base",
            "_model_module_version": "1.2.0",
            "_model_name": "LayoutModel",
            "_view_count": null,
            "_view_module": "@jupyter-widgets/base",
            "_view_module_version": "1.2.0",
            "_view_name": "LayoutView",
            "align_content": null,
            "align_items": null,
            "align_self": null,
            "border": null,
            "bottom": null,
            "display": null,
            "flex": null,
            "flex_flow": null,
            "grid_area": null,
            "grid_auto_columns": null,
            "grid_auto_flow": null,
            "grid_auto_rows": null,
            "grid_column": null,
            "grid_gap": null,
            "grid_row": null,
            "grid_template_areas": null,
            "grid_template_columns": null,
            "grid_template_rows": null,
            "height": null,
            "justify_content": null,
            "justify_items": null,
            "left": null,
            "margin": null,
            "max_height": null,
            "max_width": null,
            "min_height": null,
            "min_width": null,
            "object_fit": null,
            "object_position": null,
            "order": null,
            "overflow": null,
            "overflow_x": null,
            "overflow_y": null,
            "padding": null,
            "right": null,
            "top": null,
            "visibility": null,
            "width": null
          }
        },
        "9e06782d6fad4048a78085c519387c93": {
          "model_module": "@jupyter-widgets/controls",
          "model_name": "DescriptionStyleModel",
          "model_module_version": "1.5.0",
          "state": {
            "_model_module": "@jupyter-widgets/controls",
            "_model_module_version": "1.5.0",
            "_model_name": "DescriptionStyleModel",
            "_view_count": null,
            "_view_module": "@jupyter-widgets/base",
            "_view_module_version": "1.2.0",
            "_view_name": "StyleView",
            "description_width": ""
          }
        },
        "01af2c6a2a6c49f3b4da241fbb31e155": {
          "model_module": "@jupyter-widgets/controls",
          "model_name": "HBoxModel",
          "model_module_version": "1.5.0",
          "state": {
            "_dom_classes": [],
            "_model_module": "@jupyter-widgets/controls",
            "_model_module_version": "1.5.0",
            "_model_name": "HBoxModel",
            "_view_count": null,
            "_view_module": "@jupyter-widgets/controls",
            "_view_module_version": "1.5.0",
            "_view_name": "HBoxView",
            "box_style": "",
            "children": [
              "IPY_MODEL_8ed1e69af6f944cfb0f703a7b0bd4a77",
              "IPY_MODEL_613b6770f3d64979aca0d2a82710194e",
              "IPY_MODEL_43744320b4af46aa808b71f8bc048959"
            ],
            "layout": "IPY_MODEL_6e46adf6050a4b789a1023277ec5b183"
          }
        },
        "8ed1e69af6f944cfb0f703a7b0bd4a77": {
          "model_module": "@jupyter-widgets/controls",
          "model_name": "HTMLModel",
          "model_module_version": "1.5.0",
          "state": {
            "_dom_classes": [],
            "_model_module": "@jupyter-widgets/controls",
            "_model_module_version": "1.5.0",
            "_model_name": "HTMLModel",
            "_view_count": null,
            "_view_module": "@jupyter-widgets/controls",
            "_view_module_version": "1.5.0",
            "_view_name": "HTMLView",
            "description": "",
            "description_tooltip": null,
            "layout": "IPY_MODEL_7cfde1025d78491b99208a21f13b3852",
            "placeholder": "​",
            "style": "IPY_MODEL_581feca4ccf846c687c20c14d08ed672",
            "value": "Downloading builder script: 100%"
          }
        },
        "613b6770f3d64979aca0d2a82710194e": {
          "model_module": "@jupyter-widgets/controls",
          "model_name": "FloatProgressModel",
          "model_module_version": "1.5.0",
          "state": {
            "_dom_classes": [],
            "_model_module": "@jupyter-widgets/controls",
            "_model_module_version": "1.5.0",
            "_model_name": "FloatProgressModel",
            "_view_count": null,
            "_view_module": "@jupyter-widgets/controls",
            "_view_module_version": "1.5.0",
            "_view_name": "ProgressView",
            "bar_style": "success",
            "description": "",
            "description_tooltip": null,
            "layout": "IPY_MODEL_c5f5ed003a1d46a392a52b9d280bdead",
            "max": 5937,
            "min": 0,
            "orientation": "horizontal",
            "style": "IPY_MODEL_2843dc4f652d4a3ab648bd6ba069182c",
            "value": 5937
          }
        },
        "43744320b4af46aa808b71f8bc048959": {
          "model_module": "@jupyter-widgets/controls",
          "model_name": "HTMLModel",
          "model_module_version": "1.5.0",
          "state": {
            "_dom_classes": [],
            "_model_module": "@jupyter-widgets/controls",
            "_model_module_version": "1.5.0",
            "_model_name": "HTMLModel",
            "_view_count": null,
            "_view_module": "@jupyter-widgets/controls",
            "_view_module_version": "1.5.0",
            "_view_name": "HTMLView",
            "description": "",
            "description_tooltip": null,
            "layout": "IPY_MODEL_8c274b7842724794a7fa21429d5e921e",
            "placeholder": "​",
            "style": "IPY_MODEL_798bed40cfaa4189b9002e6b82f0dd4e",
            "value": " 5.94k/5.94k [00:00&lt;00:00, 372kB/s]"
          }
        },
        "6e46adf6050a4b789a1023277ec5b183": {
          "model_module": "@jupyter-widgets/base",
          "model_name": "LayoutModel",
          "model_module_version": "1.2.0",
          "state": {
            "_model_module": "@jupyter-widgets/base",
            "_model_module_version": "1.2.0",
            "_model_name": "LayoutModel",
            "_view_count": null,
            "_view_module": "@jupyter-widgets/base",
            "_view_module_version": "1.2.0",
            "_view_name": "LayoutView",
            "align_content": null,
            "align_items": null,
            "align_self": null,
            "border": null,
            "bottom": null,
            "display": null,
            "flex": null,
            "flex_flow": null,
            "grid_area": null,
            "grid_auto_columns": null,
            "grid_auto_flow": null,
            "grid_auto_rows": null,
            "grid_column": null,
            "grid_gap": null,
            "grid_row": null,
            "grid_template_areas": null,
            "grid_template_columns": null,
            "grid_template_rows": null,
            "height": null,
            "justify_content": null,
            "justify_items": null,
            "left": null,
            "margin": null,
            "max_height": null,
            "max_width": null,
            "min_height": null,
            "min_width": null,
            "object_fit": null,
            "object_position": null,
            "order": null,
            "overflow": null,
            "overflow_x": null,
            "overflow_y": null,
            "padding": null,
            "right": null,
            "top": null,
            "visibility": null,
            "width": null
          }
        },
        "7cfde1025d78491b99208a21f13b3852": {
          "model_module": "@jupyter-widgets/base",
          "model_name": "LayoutModel",
          "model_module_version": "1.2.0",
          "state": {
            "_model_module": "@jupyter-widgets/base",
            "_model_module_version": "1.2.0",
            "_model_name": "LayoutModel",
            "_view_count": null,
            "_view_module": "@jupyter-widgets/base",
            "_view_module_version": "1.2.0",
            "_view_name": "LayoutView",
            "align_content": null,
            "align_items": null,
            "align_self": null,
            "border": null,
            "bottom": null,
            "display": null,
            "flex": null,
            "flex_flow": null,
            "grid_area": null,
            "grid_auto_columns": null,
            "grid_auto_flow": null,
            "grid_auto_rows": null,
            "grid_column": null,
            "grid_gap": null,
            "grid_row": null,
            "grid_template_areas": null,
            "grid_template_columns": null,
            "grid_template_rows": null,
            "height": null,
            "justify_content": null,
            "justify_items": null,
            "left": null,
            "margin": null,
            "max_height": null,
            "max_width": null,
            "min_height": null,
            "min_width": null,
            "object_fit": null,
            "object_position": null,
            "order": null,
            "overflow": null,
            "overflow_x": null,
            "overflow_y": null,
            "padding": null,
            "right": null,
            "top": null,
            "visibility": null,
            "width": null
          }
        },
        "581feca4ccf846c687c20c14d08ed672": {
          "model_module": "@jupyter-widgets/controls",
          "model_name": "DescriptionStyleModel",
          "model_module_version": "1.5.0",
          "state": {
            "_model_module": "@jupyter-widgets/controls",
            "_model_module_version": "1.5.0",
            "_model_name": "DescriptionStyleModel",
            "_view_count": null,
            "_view_module": "@jupyter-widgets/base",
            "_view_module_version": "1.2.0",
            "_view_name": "StyleView",
            "description_width": ""
          }
        },
        "c5f5ed003a1d46a392a52b9d280bdead": {
          "model_module": "@jupyter-widgets/base",
          "model_name": "LayoutModel",
          "model_module_version": "1.2.0",
          "state": {
            "_model_module": "@jupyter-widgets/base",
            "_model_module_version": "1.2.0",
            "_model_name": "LayoutModel",
            "_view_count": null,
            "_view_module": "@jupyter-widgets/base",
            "_view_module_version": "1.2.0",
            "_view_name": "LayoutView",
            "align_content": null,
            "align_items": null,
            "align_self": null,
            "border": null,
            "bottom": null,
            "display": null,
            "flex": null,
            "flex_flow": null,
            "grid_area": null,
            "grid_auto_columns": null,
            "grid_auto_flow": null,
            "grid_auto_rows": null,
            "grid_column": null,
            "grid_gap": null,
            "grid_row": null,
            "grid_template_areas": null,
            "grid_template_columns": null,
            "grid_template_rows": null,
            "height": null,
            "justify_content": null,
            "justify_items": null,
            "left": null,
            "margin": null,
            "max_height": null,
            "max_width": null,
            "min_height": null,
            "min_width": null,
            "object_fit": null,
            "object_position": null,
            "order": null,
            "overflow": null,
            "overflow_x": null,
            "overflow_y": null,
            "padding": null,
            "right": null,
            "top": null,
            "visibility": null,
            "width": null
          }
        },
        "2843dc4f652d4a3ab648bd6ba069182c": {
          "model_module": "@jupyter-widgets/controls",
          "model_name": "ProgressStyleModel",
          "model_module_version": "1.5.0",
          "state": {
            "_model_module": "@jupyter-widgets/controls",
            "_model_module_version": "1.5.0",
            "_model_name": "ProgressStyleModel",
            "_view_count": null,
            "_view_module": "@jupyter-widgets/base",
            "_view_module_version": "1.2.0",
            "_view_name": "StyleView",
            "bar_color": null,
            "description_width": ""
          }
        },
        "8c274b7842724794a7fa21429d5e921e": {
          "model_module": "@jupyter-widgets/base",
          "model_name": "LayoutModel",
          "model_module_version": "1.2.0",
          "state": {
            "_model_module": "@jupyter-widgets/base",
            "_model_module_version": "1.2.0",
            "_model_name": "LayoutModel",
            "_view_count": null,
            "_view_module": "@jupyter-widgets/base",
            "_view_module_version": "1.2.0",
            "_view_name": "LayoutView",
            "align_content": null,
            "align_items": null,
            "align_self": null,
            "border": null,
            "bottom": null,
            "display": null,
            "flex": null,
            "flex_flow": null,
            "grid_area": null,
            "grid_auto_columns": null,
            "grid_auto_flow": null,
            "grid_auto_rows": null,
            "grid_column": null,
            "grid_gap": null,
            "grid_row": null,
            "grid_template_areas": null,
            "grid_template_columns": null,
            "grid_template_rows": null,
            "height": null,
            "justify_content": null,
            "justify_items": null,
            "left": null,
            "margin": null,
            "max_height": null,
            "max_width": null,
            "min_height": null,
            "min_width": null,
            "object_fit": null,
            "object_position": null,
            "order": null,
            "overflow": null,
            "overflow_x": null,
            "overflow_y": null,
            "padding": null,
            "right": null,
            "top": null,
            "visibility": null,
            "width": null
          }
        },
        "798bed40cfaa4189b9002e6b82f0dd4e": {
          "model_module": "@jupyter-widgets/controls",
          "model_name": "DescriptionStyleModel",
          "model_module_version": "1.5.0",
          "state": {
            "_model_module": "@jupyter-widgets/controls",
            "_model_module_version": "1.5.0",
            "_model_name": "DescriptionStyleModel",
            "_view_count": null,
            "_view_module": "@jupyter-widgets/base",
            "_view_module_version": "1.2.0",
            "_view_name": "StyleView",
            "description_width": ""
          }
        },
        "76f6175004c34ecdbdb1ff39750ef484": {
          "model_module": "@jupyter-widgets/controls",
          "model_name": "HBoxModel",
          "model_module_version": "1.5.0",
          "state": {
            "_dom_classes": [],
            "_model_module": "@jupyter-widgets/controls",
            "_model_module_version": "1.5.0",
            "_model_name": "HBoxModel",
            "_view_count": null,
            "_view_module": "@jupyter-widgets/controls",
            "_view_module_version": "1.5.0",
            "_view_name": "HBoxView",
            "box_style": "",
            "children": [
              "IPY_MODEL_f2c9a5d0f2a246998f9125c4819fc359",
              "IPY_MODEL_76d4c5f09e694bdc899cbe45151c62a5",
              "IPY_MODEL_9cca86d0bb91469382496f60a27cd9b6"
            ],
            "layout": "IPY_MODEL_13bd3930b59344c2b040e6066b53564e"
          }
        },
        "f2c9a5d0f2a246998f9125c4819fc359": {
          "model_module": "@jupyter-widgets/controls",
          "model_name": "HTMLModel",
          "model_module_version": "1.5.0",
          "state": {
            "_dom_classes": [],
            "_model_module": "@jupyter-widgets/controls",
            "_model_module_version": "1.5.0",
            "_model_name": "HTMLModel",
            "_view_count": null,
            "_view_module": "@jupyter-widgets/controls",
            "_view_module_version": "1.5.0",
            "_view_name": "HTMLView",
            "description": "",
            "description_tooltip": null,
            "layout": "IPY_MODEL_960d59d8c1fe43e8a52b6cb07395b66f",
            "placeholder": "​",
            "style": "IPY_MODEL_dc2ffbaab405420b844a6ad9dd3364ef",
            "value": "Downloading extra modules: "
          }
        },
        "76d4c5f09e694bdc899cbe45151c62a5": {
          "model_module": "@jupyter-widgets/controls",
          "model_name": "FloatProgressModel",
          "model_module_version": "1.5.0",
          "state": {
            "_dom_classes": [],
            "_model_module": "@jupyter-widgets/controls",
            "_model_module_version": "1.5.0",
            "_model_name": "FloatProgressModel",
            "_view_count": null,
            "_view_module": "@jupyter-widgets/controls",
            "_view_module_version": "1.5.0",
            "_view_name": "ProgressView",
            "bar_style": "success",
            "description": "",
            "description_tooltip": null,
            "layout": "IPY_MODEL_5a1b404acada4755b0fe49934b6cdcb8",
            "max": 1554,
            "min": 0,
            "orientation": "horizontal",
            "style": "IPY_MODEL_425a924ae7414d71a14e680dea651995",
            "value": 1554
          }
        },
        "9cca86d0bb91469382496f60a27cd9b6": {
          "model_module": "@jupyter-widgets/controls",
          "model_name": "HTMLModel",
          "model_module_version": "1.5.0",
          "state": {
            "_dom_classes": [],
            "_model_module": "@jupyter-widgets/controls",
            "_model_module_version": "1.5.0",
            "_model_name": "HTMLModel",
            "_view_count": null,
            "_view_module": "@jupyter-widgets/controls",
            "_view_module_version": "1.5.0",
            "_view_name": "HTMLView",
            "description": "",
            "description_tooltip": null,
            "layout": "IPY_MODEL_b5c9c5c81fba44489c6901a154f9d028",
            "placeholder": "​",
            "style": "IPY_MODEL_2003c18e77f74e9ca2543598f74d6b03",
            "value": " 4.07k/? [00:00&lt;00:00, 137kB/s]"
          }
        },
        "13bd3930b59344c2b040e6066b53564e": {
          "model_module": "@jupyter-widgets/base",
          "model_name": "LayoutModel",
          "model_module_version": "1.2.0",
          "state": {
            "_model_module": "@jupyter-widgets/base",
            "_model_module_version": "1.2.0",
            "_model_name": "LayoutModel",
            "_view_count": null,
            "_view_module": "@jupyter-widgets/base",
            "_view_module_version": "1.2.0",
            "_view_name": "LayoutView",
            "align_content": null,
            "align_items": null,
            "align_self": null,
            "border": null,
            "bottom": null,
            "display": null,
            "flex": null,
            "flex_flow": null,
            "grid_area": null,
            "grid_auto_columns": null,
            "grid_auto_flow": null,
            "grid_auto_rows": null,
            "grid_column": null,
            "grid_gap": null,
            "grid_row": null,
            "grid_template_areas": null,
            "grid_template_columns": null,
            "grid_template_rows": null,
            "height": null,
            "justify_content": null,
            "justify_items": null,
            "left": null,
            "margin": null,
            "max_height": null,
            "max_width": null,
            "min_height": null,
            "min_width": null,
            "object_fit": null,
            "object_position": null,
            "order": null,
            "overflow": null,
            "overflow_x": null,
            "overflow_y": null,
            "padding": null,
            "right": null,
            "top": null,
            "visibility": null,
            "width": null
          }
        },
        "960d59d8c1fe43e8a52b6cb07395b66f": {
          "model_module": "@jupyter-widgets/base",
          "model_name": "LayoutModel",
          "model_module_version": "1.2.0",
          "state": {
            "_model_module": "@jupyter-widgets/base",
            "_model_module_version": "1.2.0",
            "_model_name": "LayoutModel",
            "_view_count": null,
            "_view_module": "@jupyter-widgets/base",
            "_view_module_version": "1.2.0",
            "_view_name": "LayoutView",
            "align_content": null,
            "align_items": null,
            "align_self": null,
            "border": null,
            "bottom": null,
            "display": null,
            "flex": null,
            "flex_flow": null,
            "grid_area": null,
            "grid_auto_columns": null,
            "grid_auto_flow": null,
            "grid_auto_rows": null,
            "grid_column": null,
            "grid_gap": null,
            "grid_row": null,
            "grid_template_areas": null,
            "grid_template_columns": null,
            "grid_template_rows": null,
            "height": null,
            "justify_content": null,
            "justify_items": null,
            "left": null,
            "margin": null,
            "max_height": null,
            "max_width": null,
            "min_height": null,
            "min_width": null,
            "object_fit": null,
            "object_position": null,
            "order": null,
            "overflow": null,
            "overflow_x": null,
            "overflow_y": null,
            "padding": null,
            "right": null,
            "top": null,
            "visibility": null,
            "width": null
          }
        },
        "dc2ffbaab405420b844a6ad9dd3364ef": {
          "model_module": "@jupyter-widgets/controls",
          "model_name": "DescriptionStyleModel",
          "model_module_version": "1.5.0",
          "state": {
            "_model_module": "@jupyter-widgets/controls",
            "_model_module_version": "1.5.0",
            "_model_name": "DescriptionStyleModel",
            "_view_count": null,
            "_view_module": "@jupyter-widgets/base",
            "_view_module_version": "1.2.0",
            "_view_name": "StyleView",
            "description_width": ""
          }
        },
        "5a1b404acada4755b0fe49934b6cdcb8": {
          "model_module": "@jupyter-widgets/base",
          "model_name": "LayoutModel",
          "model_module_version": "1.2.0",
          "state": {
            "_model_module": "@jupyter-widgets/base",
            "_model_module_version": "1.2.0",
            "_model_name": "LayoutModel",
            "_view_count": null,
            "_view_module": "@jupyter-widgets/base",
            "_view_module_version": "1.2.0",
            "_view_name": "LayoutView",
            "align_content": null,
            "align_items": null,
            "align_self": null,
            "border": null,
            "bottom": null,
            "display": null,
            "flex": null,
            "flex_flow": null,
            "grid_area": null,
            "grid_auto_columns": null,
            "grid_auto_flow": null,
            "grid_auto_rows": null,
            "grid_column": null,
            "grid_gap": null,
            "grid_row": null,
            "grid_template_areas": null,
            "grid_template_columns": null,
            "grid_template_rows": null,
            "height": null,
            "justify_content": null,
            "justify_items": null,
            "left": null,
            "margin": null,
            "max_height": null,
            "max_width": null,
            "min_height": null,
            "min_width": null,
            "object_fit": null,
            "object_position": null,
            "order": null,
            "overflow": null,
            "overflow_x": null,
            "overflow_y": null,
            "padding": null,
            "right": null,
            "top": null,
            "visibility": null,
            "width": null
          }
        },
        "425a924ae7414d71a14e680dea651995": {
          "model_module": "@jupyter-widgets/controls",
          "model_name": "ProgressStyleModel",
          "model_module_version": "1.5.0",
          "state": {
            "_model_module": "@jupyter-widgets/controls",
            "_model_module_version": "1.5.0",
            "_model_name": "ProgressStyleModel",
            "_view_count": null,
            "_view_module": "@jupyter-widgets/base",
            "_view_module_version": "1.2.0",
            "_view_name": "StyleView",
            "bar_color": null,
            "description_width": ""
          }
        },
        "b5c9c5c81fba44489c6901a154f9d028": {
          "model_module": "@jupyter-widgets/base",
          "model_name": "LayoutModel",
          "model_module_version": "1.2.0",
          "state": {
            "_model_module": "@jupyter-widgets/base",
            "_model_module_version": "1.2.0",
            "_model_name": "LayoutModel",
            "_view_count": null,
            "_view_module": "@jupyter-widgets/base",
            "_view_module_version": "1.2.0",
            "_view_name": "LayoutView",
            "align_content": null,
            "align_items": null,
            "align_self": null,
            "border": null,
            "bottom": null,
            "display": null,
            "flex": null,
            "flex_flow": null,
            "grid_area": null,
            "grid_auto_columns": null,
            "grid_auto_flow": null,
            "grid_auto_rows": null,
            "grid_column": null,
            "grid_gap": null,
            "grid_row": null,
            "grid_template_areas": null,
            "grid_template_columns": null,
            "grid_template_rows": null,
            "height": null,
            "justify_content": null,
            "justify_items": null,
            "left": null,
            "margin": null,
            "max_height": null,
            "max_width": null,
            "min_height": null,
            "min_width": null,
            "object_fit": null,
            "object_position": null,
            "order": null,
            "overflow": null,
            "overflow_x": null,
            "overflow_y": null,
            "padding": null,
            "right": null,
            "top": null,
            "visibility": null,
            "width": null
          }
        },
        "2003c18e77f74e9ca2543598f74d6b03": {
          "model_module": "@jupyter-widgets/controls",
          "model_name": "DescriptionStyleModel",
          "model_module_version": "1.5.0",
          "state": {
            "_model_module": "@jupyter-widgets/controls",
            "_model_module_version": "1.5.0",
            "_model_name": "DescriptionStyleModel",
            "_view_count": null,
            "_view_module": "@jupyter-widgets/base",
            "_view_module_version": "1.2.0",
            "_view_name": "StyleView",
            "description_width": ""
          }
        },
        "593481f82e1040d884f89b4cf3617450": {
          "model_module": "@jupyter-widgets/controls",
          "model_name": "HBoxModel",
          "model_module_version": "1.5.0",
          "state": {
            "_dom_classes": [],
            "_model_module": "@jupyter-widgets/controls",
            "_model_module_version": "1.5.0",
            "_model_name": "HBoxModel",
            "_view_count": null,
            "_view_module": "@jupyter-widgets/controls",
            "_view_module_version": "1.5.0",
            "_view_name": "HBoxView",
            "box_style": "",
            "children": [
              "IPY_MODEL_8b8d00a2129e42299033668c87b7efcc",
              "IPY_MODEL_cfd2f4b8aa36469784ebdd42edcef4b6",
              "IPY_MODEL_32206ca6d8394bbc9e22b74191b03a41"
            ],
            "layout": "IPY_MODEL_e1791277a6134eeda64f876f129df2a3"
          }
        },
        "8b8d00a2129e42299033668c87b7efcc": {
          "model_module": "@jupyter-widgets/controls",
          "model_name": "HTMLModel",
          "model_module_version": "1.5.0",
          "state": {
            "_dom_classes": [],
            "_model_module": "@jupyter-widgets/controls",
            "_model_module_version": "1.5.0",
            "_model_name": "HTMLModel",
            "_view_count": null,
            "_view_module": "@jupyter-widgets/controls",
            "_view_module_version": "1.5.0",
            "_view_name": "HTMLView",
            "description": "",
            "description_tooltip": null,
            "layout": "IPY_MODEL_5f2f0a7aadd948e39b3460b4e281e579",
            "placeholder": "​",
            "style": "IPY_MODEL_4c97af76dba64686ae78df4eb3c4ee85",
            "value": "Downloading extra modules: 100%"
          }
        },
        "cfd2f4b8aa36469784ebdd42edcef4b6": {
          "model_module": "@jupyter-widgets/controls",
          "model_name": "FloatProgressModel",
          "model_module_version": "1.5.0",
          "state": {
            "_dom_classes": [],
            "_model_module": "@jupyter-widgets/controls",
            "_model_module_version": "1.5.0",
            "_model_name": "FloatProgressModel",
            "_view_count": null,
            "_view_module": "@jupyter-widgets/controls",
            "_view_module_version": "1.5.0",
            "_view_name": "ProgressView",
            "bar_style": "success",
            "description": "",
            "description_tooltip": null,
            "layout": "IPY_MODEL_9212e7e766bd4d678a8868adb4229bf2",
            "max": 3344,
            "min": 0,
            "orientation": "horizontal",
            "style": "IPY_MODEL_6eac2409540242888a71fba83ebb8ebe",
            "value": 3344
          }
        },
        "32206ca6d8394bbc9e22b74191b03a41": {
          "model_module": "@jupyter-widgets/controls",
          "model_name": "HTMLModel",
          "model_module_version": "1.5.0",
          "state": {
            "_dom_classes": [],
            "_model_module": "@jupyter-widgets/controls",
            "_model_module_version": "1.5.0",
            "_model_name": "HTMLModel",
            "_view_count": null,
            "_view_module": "@jupyter-widgets/controls",
            "_view_module_version": "1.5.0",
            "_view_name": "HTMLView",
            "description": "",
            "description_tooltip": null,
            "layout": "IPY_MODEL_36a5a311fbf84240a88e3f75db9f5bf3",
            "placeholder": "​",
            "style": "IPY_MODEL_b82fce160b1a4d478dd6dcc09e483b5c",
            "value": " 3.34k/3.34k [00:00&lt;00:00, 140kB/s]"
          }
        },
        "e1791277a6134eeda64f876f129df2a3": {
          "model_module": "@jupyter-widgets/base",
          "model_name": "LayoutModel",
          "model_module_version": "1.2.0",
          "state": {
            "_model_module": "@jupyter-widgets/base",
            "_model_module_version": "1.2.0",
            "_model_name": "LayoutModel",
            "_view_count": null,
            "_view_module": "@jupyter-widgets/base",
            "_view_module_version": "1.2.0",
            "_view_name": "LayoutView",
            "align_content": null,
            "align_items": null,
            "align_self": null,
            "border": null,
            "bottom": null,
            "display": null,
            "flex": null,
            "flex_flow": null,
            "grid_area": null,
            "grid_auto_columns": null,
            "grid_auto_flow": null,
            "grid_auto_rows": null,
            "grid_column": null,
            "grid_gap": null,
            "grid_row": null,
            "grid_template_areas": null,
            "grid_template_columns": null,
            "grid_template_rows": null,
            "height": null,
            "justify_content": null,
            "justify_items": null,
            "left": null,
            "margin": null,
            "max_height": null,
            "max_width": null,
            "min_height": null,
            "min_width": null,
            "object_fit": null,
            "object_position": null,
            "order": null,
            "overflow": null,
            "overflow_x": null,
            "overflow_y": null,
            "padding": null,
            "right": null,
            "top": null,
            "visibility": null,
            "width": null
          }
        },
        "5f2f0a7aadd948e39b3460b4e281e579": {
          "model_module": "@jupyter-widgets/base",
          "model_name": "LayoutModel",
          "model_module_version": "1.2.0",
          "state": {
            "_model_module": "@jupyter-widgets/base",
            "_model_module_version": "1.2.0",
            "_model_name": "LayoutModel",
            "_view_count": null,
            "_view_module": "@jupyter-widgets/base",
            "_view_module_version": "1.2.0",
            "_view_name": "LayoutView",
            "align_content": null,
            "align_items": null,
            "align_self": null,
            "border": null,
            "bottom": null,
            "display": null,
            "flex": null,
            "flex_flow": null,
            "grid_area": null,
            "grid_auto_columns": null,
            "grid_auto_flow": null,
            "grid_auto_rows": null,
            "grid_column": null,
            "grid_gap": null,
            "grid_row": null,
            "grid_template_areas": null,
            "grid_template_columns": null,
            "grid_template_rows": null,
            "height": null,
            "justify_content": null,
            "justify_items": null,
            "left": null,
            "margin": null,
            "max_height": null,
            "max_width": null,
            "min_height": null,
            "min_width": null,
            "object_fit": null,
            "object_position": null,
            "order": null,
            "overflow": null,
            "overflow_x": null,
            "overflow_y": null,
            "padding": null,
            "right": null,
            "top": null,
            "visibility": null,
            "width": null
          }
        },
        "4c97af76dba64686ae78df4eb3c4ee85": {
          "model_module": "@jupyter-widgets/controls",
          "model_name": "DescriptionStyleModel",
          "model_module_version": "1.5.0",
          "state": {
            "_model_module": "@jupyter-widgets/controls",
            "_model_module_version": "1.5.0",
            "_model_name": "DescriptionStyleModel",
            "_view_count": null,
            "_view_module": "@jupyter-widgets/base",
            "_view_module_version": "1.2.0",
            "_view_name": "StyleView",
            "description_width": ""
          }
        },
        "9212e7e766bd4d678a8868adb4229bf2": {
          "model_module": "@jupyter-widgets/base",
          "model_name": "LayoutModel",
          "model_module_version": "1.2.0",
          "state": {
            "_model_module": "@jupyter-widgets/base",
            "_model_module_version": "1.2.0",
            "_model_name": "LayoutModel",
            "_view_count": null,
            "_view_module": "@jupyter-widgets/base",
            "_view_module_version": "1.2.0",
            "_view_name": "LayoutView",
            "align_content": null,
            "align_items": null,
            "align_self": null,
            "border": null,
            "bottom": null,
            "display": null,
            "flex": null,
            "flex_flow": null,
            "grid_area": null,
            "grid_auto_columns": null,
            "grid_auto_flow": null,
            "grid_auto_rows": null,
            "grid_column": null,
            "grid_gap": null,
            "grid_row": null,
            "grid_template_areas": null,
            "grid_template_columns": null,
            "grid_template_rows": null,
            "height": null,
            "justify_content": null,
            "justify_items": null,
            "left": null,
            "margin": null,
            "max_height": null,
            "max_width": null,
            "min_height": null,
            "min_width": null,
            "object_fit": null,
            "object_position": null,
            "order": null,
            "overflow": null,
            "overflow_x": null,
            "overflow_y": null,
            "padding": null,
            "right": null,
            "top": null,
            "visibility": null,
            "width": null
          }
        },
        "6eac2409540242888a71fba83ebb8ebe": {
          "model_module": "@jupyter-widgets/controls",
          "model_name": "ProgressStyleModel",
          "model_module_version": "1.5.0",
          "state": {
            "_model_module": "@jupyter-widgets/controls",
            "_model_module_version": "1.5.0",
            "_model_name": "ProgressStyleModel",
            "_view_count": null,
            "_view_module": "@jupyter-widgets/base",
            "_view_module_version": "1.2.0",
            "_view_name": "StyleView",
            "bar_color": null,
            "description_width": ""
          }
        },
        "36a5a311fbf84240a88e3f75db9f5bf3": {
          "model_module": "@jupyter-widgets/base",
          "model_name": "LayoutModel",
          "model_module_version": "1.2.0",
          "state": {
            "_model_module": "@jupyter-widgets/base",
            "_model_module_version": "1.2.0",
            "_model_name": "LayoutModel",
            "_view_count": null,
            "_view_module": "@jupyter-widgets/base",
            "_view_module_version": "1.2.0",
            "_view_name": "LayoutView",
            "align_content": null,
            "align_items": null,
            "align_self": null,
            "border": null,
            "bottom": null,
            "display": null,
            "flex": null,
            "flex_flow": null,
            "grid_area": null,
            "grid_auto_columns": null,
            "grid_auto_flow": null,
            "grid_auto_rows": null,
            "grid_column": null,
            "grid_gap": null,
            "grid_row": null,
            "grid_template_areas": null,
            "grid_template_columns": null,
            "grid_template_rows": null,
            "height": null,
            "justify_content": null,
            "justify_items": null,
            "left": null,
            "margin": null,
            "max_height": null,
            "max_width": null,
            "min_height": null,
            "min_width": null,
            "object_fit": null,
            "object_position": null,
            "order": null,
            "overflow": null,
            "overflow_x": null,
            "overflow_y": null,
            "padding": null,
            "right": null,
            "top": null,
            "visibility": null,
            "width": null
          }
        },
        "b82fce160b1a4d478dd6dcc09e483b5c": {
          "model_module": "@jupyter-widgets/controls",
          "model_name": "DescriptionStyleModel",
          "model_module_version": "1.5.0",
          "state": {
            "_model_module": "@jupyter-widgets/controls",
            "_model_module_version": "1.5.0",
            "_model_name": "DescriptionStyleModel",
            "_view_count": null,
            "_view_module": "@jupyter-widgets/base",
            "_view_module_version": "1.2.0",
            "_view_name": "StyleView",
            "description_width": ""
          }
        },
        "adc42f324e974b48a6f442fcfeed59f3": {
          "model_module": "@jupyter-widgets/controls",
          "model_name": "HBoxModel",
          "model_module_version": "1.5.0",
          "state": {
            "_dom_classes": [],
            "_model_module": "@jupyter-widgets/controls",
            "_model_module_version": "1.5.0",
            "_model_name": "HBoxModel",
            "_view_count": null,
            "_view_module": "@jupyter-widgets/controls",
            "_view_module_version": "1.5.0",
            "_view_name": "HBoxView",
            "box_style": "",
            "children": [
              "IPY_MODEL_1fbf8a4b46e543a5bed200a792846bc5",
              "IPY_MODEL_adac6febce384774b34142fb55d22f22",
              "IPY_MODEL_e23eac58d15445e685b9960ac5aaae82"
            ],
            "layout": "IPY_MODEL_36cdcdde7e824007bb36e319d551d200"
          }
        },
        "1fbf8a4b46e543a5bed200a792846bc5": {
          "model_module": "@jupyter-widgets/controls",
          "model_name": "HTMLModel",
          "model_module_version": "1.5.0",
          "state": {
            "_dom_classes": [],
            "_model_module": "@jupyter-widgets/controls",
            "_model_module_version": "1.5.0",
            "_model_name": "HTMLModel",
            "_view_count": null,
            "_view_module": "@jupyter-widgets/controls",
            "_view_module_version": "1.5.0",
            "_view_name": "HTMLView",
            "description": "",
            "description_tooltip": null,
            "layout": "IPY_MODEL_eb08d126cc6a461c86799519486fa608",
            "placeholder": "​",
            "style": "IPY_MODEL_599db09ab4e941fb9edeb3900a63d86d",
            "value": "Downloading builder script: 100%"
          }
        },
        "adac6febce384774b34142fb55d22f22": {
          "model_module": "@jupyter-widgets/controls",
          "model_name": "FloatProgressModel",
          "model_module_version": "1.5.0",
          "state": {
            "_dom_classes": [],
            "_model_module": "@jupyter-widgets/controls",
            "_model_module_version": "1.5.0",
            "_model_name": "FloatProgressModel",
            "_view_count": null,
            "_view_module": "@jupyter-widgets/controls",
            "_view_module_version": "1.5.0",
            "_view_name": "ProgressView",
            "bar_style": "success",
            "description": "",
            "description_tooltip": null,
            "layout": "IPY_MODEL_8d40c5587b3e43b2bdda12476248d80f",
            "max": 6809,
            "min": 0,
            "orientation": "horizontal",
            "style": "IPY_MODEL_599f4eba649747dab0b1926d58e213fa",
            "value": 6809
          }
        },
        "e23eac58d15445e685b9960ac5aaae82": {
          "model_module": "@jupyter-widgets/controls",
          "model_name": "HTMLModel",
          "model_module_version": "1.5.0",
          "state": {
            "_dom_classes": [],
            "_model_module": "@jupyter-widgets/controls",
            "_model_module_version": "1.5.0",
            "_model_name": "HTMLModel",
            "_view_count": null,
            "_view_module": "@jupyter-widgets/controls",
            "_view_module_version": "1.5.0",
            "_view_name": "HTMLView",
            "description": "",
            "description_tooltip": null,
            "layout": "IPY_MODEL_15a0223ee3b54d76b534b0306baace36",
            "placeholder": "​",
            "style": "IPY_MODEL_cb9111157f5146f0b0992ff4b99cd107",
            "value": " 6.81k/6.81k [00:00&lt;00:00, 318kB/s]"
          }
        },
        "36cdcdde7e824007bb36e319d551d200": {
          "model_module": "@jupyter-widgets/base",
          "model_name": "LayoutModel",
          "model_module_version": "1.2.0",
          "state": {
            "_model_module": "@jupyter-widgets/base",
            "_model_module_version": "1.2.0",
            "_model_name": "LayoutModel",
            "_view_count": null,
            "_view_module": "@jupyter-widgets/base",
            "_view_module_version": "1.2.0",
            "_view_name": "LayoutView",
            "align_content": null,
            "align_items": null,
            "align_self": null,
            "border": null,
            "bottom": null,
            "display": null,
            "flex": null,
            "flex_flow": null,
            "grid_area": null,
            "grid_auto_columns": null,
            "grid_auto_flow": null,
            "grid_auto_rows": null,
            "grid_column": null,
            "grid_gap": null,
            "grid_row": null,
            "grid_template_areas": null,
            "grid_template_columns": null,
            "grid_template_rows": null,
            "height": null,
            "justify_content": null,
            "justify_items": null,
            "left": null,
            "margin": null,
            "max_height": null,
            "max_width": null,
            "min_height": null,
            "min_width": null,
            "object_fit": null,
            "object_position": null,
            "order": null,
            "overflow": null,
            "overflow_x": null,
            "overflow_y": null,
            "padding": null,
            "right": null,
            "top": null,
            "visibility": null,
            "width": null
          }
        },
        "eb08d126cc6a461c86799519486fa608": {
          "model_module": "@jupyter-widgets/base",
          "model_name": "LayoutModel",
          "model_module_version": "1.2.0",
          "state": {
            "_model_module": "@jupyter-widgets/base",
            "_model_module_version": "1.2.0",
            "_model_name": "LayoutModel",
            "_view_count": null,
            "_view_module": "@jupyter-widgets/base",
            "_view_module_version": "1.2.0",
            "_view_name": "LayoutView",
            "align_content": null,
            "align_items": null,
            "align_self": null,
            "border": null,
            "bottom": null,
            "display": null,
            "flex": null,
            "flex_flow": null,
            "grid_area": null,
            "grid_auto_columns": null,
            "grid_auto_flow": null,
            "grid_auto_rows": null,
            "grid_column": null,
            "grid_gap": null,
            "grid_row": null,
            "grid_template_areas": null,
            "grid_template_columns": null,
            "grid_template_rows": null,
            "height": null,
            "justify_content": null,
            "justify_items": null,
            "left": null,
            "margin": null,
            "max_height": null,
            "max_width": null,
            "min_height": null,
            "min_width": null,
            "object_fit": null,
            "object_position": null,
            "order": null,
            "overflow": null,
            "overflow_x": null,
            "overflow_y": null,
            "padding": null,
            "right": null,
            "top": null,
            "visibility": null,
            "width": null
          }
        },
        "599db09ab4e941fb9edeb3900a63d86d": {
          "model_module": "@jupyter-widgets/controls",
          "model_name": "DescriptionStyleModel",
          "model_module_version": "1.5.0",
          "state": {
            "_model_module": "@jupyter-widgets/controls",
            "_model_module_version": "1.5.0",
            "_model_name": "DescriptionStyleModel",
            "_view_count": null,
            "_view_module": "@jupyter-widgets/base",
            "_view_module_version": "1.2.0",
            "_view_name": "StyleView",
            "description_width": ""
          }
        },
        "8d40c5587b3e43b2bdda12476248d80f": {
          "model_module": "@jupyter-widgets/base",
          "model_name": "LayoutModel",
          "model_module_version": "1.2.0",
          "state": {
            "_model_module": "@jupyter-widgets/base",
            "_model_module_version": "1.2.0",
            "_model_name": "LayoutModel",
            "_view_count": null,
            "_view_module": "@jupyter-widgets/base",
            "_view_module_version": "1.2.0",
            "_view_name": "LayoutView",
            "align_content": null,
            "align_items": null,
            "align_self": null,
            "border": null,
            "bottom": null,
            "display": null,
            "flex": null,
            "flex_flow": null,
            "grid_area": null,
            "grid_auto_columns": null,
            "grid_auto_flow": null,
            "grid_auto_rows": null,
            "grid_column": null,
            "grid_gap": null,
            "grid_row": null,
            "grid_template_areas": null,
            "grid_template_columns": null,
            "grid_template_rows": null,
            "height": null,
            "justify_content": null,
            "justify_items": null,
            "left": null,
            "margin": null,
            "max_height": null,
            "max_width": null,
            "min_height": null,
            "min_width": null,
            "object_fit": null,
            "object_position": null,
            "order": null,
            "overflow": null,
            "overflow_x": null,
            "overflow_y": null,
            "padding": null,
            "right": null,
            "top": null,
            "visibility": null,
            "width": null
          }
        },
        "599f4eba649747dab0b1926d58e213fa": {
          "model_module": "@jupyter-widgets/controls",
          "model_name": "ProgressStyleModel",
          "model_module_version": "1.5.0",
          "state": {
            "_model_module": "@jupyter-widgets/controls",
            "_model_module_version": "1.5.0",
            "_model_name": "ProgressStyleModel",
            "_view_count": null,
            "_view_module": "@jupyter-widgets/base",
            "_view_module_version": "1.2.0",
            "_view_name": "StyleView",
            "bar_color": null,
            "description_width": ""
          }
        },
        "15a0223ee3b54d76b534b0306baace36": {
          "model_module": "@jupyter-widgets/base",
          "model_name": "LayoutModel",
          "model_module_version": "1.2.0",
          "state": {
            "_model_module": "@jupyter-widgets/base",
            "_model_module_version": "1.2.0",
            "_model_name": "LayoutModel",
            "_view_count": null,
            "_view_module": "@jupyter-widgets/base",
            "_view_module_version": "1.2.0",
            "_view_name": "LayoutView",
            "align_content": null,
            "align_items": null,
            "align_self": null,
            "border": null,
            "bottom": null,
            "display": null,
            "flex": null,
            "flex_flow": null,
            "grid_area": null,
            "grid_auto_columns": null,
            "grid_auto_flow": null,
            "grid_auto_rows": null,
            "grid_column": null,
            "grid_gap": null,
            "grid_row": null,
            "grid_template_areas": null,
            "grid_template_columns": null,
            "grid_template_rows": null,
            "height": null,
            "justify_content": null,
            "justify_items": null,
            "left": null,
            "margin": null,
            "max_height": null,
            "max_width": null,
            "min_height": null,
            "min_width": null,
            "object_fit": null,
            "object_position": null,
            "order": null,
            "overflow": null,
            "overflow_x": null,
            "overflow_y": null,
            "padding": null,
            "right": null,
            "top": null,
            "visibility": null,
            "width": null
          }
        },
        "cb9111157f5146f0b0992ff4b99cd107": {
          "model_module": "@jupyter-widgets/controls",
          "model_name": "DescriptionStyleModel",
          "model_module_version": "1.5.0",
          "state": {
            "_model_module": "@jupyter-widgets/controls",
            "_model_module_version": "1.5.0",
            "_model_name": "DescriptionStyleModel",
            "_view_count": null,
            "_view_module": "@jupyter-widgets/base",
            "_view_module_version": "1.2.0",
            "_view_name": "StyleView",
            "description_width": ""
          }
        },
        "f89310d0f0b44be29240095541842d88": {
          "model_module": "@jupyter-widgets/controls",
          "model_name": "VBoxModel",
          "model_module_version": "1.5.0",
          "state": {
            "_dom_classes": [],
            "_model_module": "@jupyter-widgets/controls",
            "_model_module_version": "1.5.0",
            "_model_name": "VBoxModel",
            "_view_count": null,
            "_view_module": "@jupyter-widgets/controls",
            "_view_module_version": "1.5.0",
            "_view_name": "VBoxView",
            "box_style": "",
            "children": [
              "IPY_MODEL_43c0a3ce037848ae9f3a0cbc196f8980",
              "IPY_MODEL_f24aaec0b81e498389b5b041d0829a05",
              "IPY_MODEL_3adb023f9e3449839e28cce59c4f18d5",
              "IPY_MODEL_f581367f3ccf4113b76ab663bd6b10e4"
            ],
            "layout": "IPY_MODEL_1c8fc25ffc6b463e8f3ac5781dfb71bf"
          }
        },
        "36d327b52c6745a08a5f2ee026db1da5": {
          "model_module": "@jupyter-widgets/controls",
          "model_name": "HTMLModel",
          "model_module_version": "1.5.0",
          "state": {
            "_dom_classes": [],
            "_model_module": "@jupyter-widgets/controls",
            "_model_module_version": "1.5.0",
            "_model_name": "HTMLModel",
            "_view_count": null,
            "_view_module": "@jupyter-widgets/controls",
            "_view_module_version": "1.5.0",
            "_view_name": "HTMLView",
            "description": "",
            "description_tooltip": null,
            "layout": "IPY_MODEL_1ede547469204111aac8646a2a223f82",
            "placeholder": "​",
            "style": "IPY_MODEL_29c0e9f603b54094b3814a9c1c8050b7",
            "value": "<center> <img\nsrc=https://huggingface.co/front/assets/huggingface_logo-noborder.svg\nalt='Hugging Face'> <br> Copy a token from <a\nhref=\"https://huggingface.co/settings/tokens\" target=\"_blank\">your Hugging Face\ntokens page</a> and paste it below. <br> Immediately click login after copying\nyour token or it might be stored in plain text in this notebook file. </center>"
          }
        },
        "6b95eda4c09b47ad93dcf99072229226": {
          "model_module": "@jupyter-widgets/controls",
          "model_name": "PasswordModel",
          "model_module_version": "1.5.0",
          "state": {
            "_dom_classes": [],
            "_model_module": "@jupyter-widgets/controls",
            "_model_module_version": "1.5.0",
            "_model_name": "PasswordModel",
            "_view_count": null,
            "_view_module": "@jupyter-widgets/controls",
            "_view_module_version": "1.5.0",
            "_view_name": "PasswordView",
            "continuous_update": true,
            "description": "Token:",
            "description_tooltip": null,
            "disabled": false,
            "layout": "IPY_MODEL_d50e3e9854564404a7e74ba5f155ce86",
            "placeholder": "​",
            "style": "IPY_MODEL_9371da113a894325868d098fda0a707a",
            "value": ""
          }
        },
        "6d2dba1c7f3646839bdb16529851edb4": {
          "model_module": "@jupyter-widgets/controls",
          "model_name": "CheckboxModel",
          "model_module_version": "1.5.0",
          "state": {
            "_dom_classes": [],
            "_model_module": "@jupyter-widgets/controls",
            "_model_module_version": "1.5.0",
            "_model_name": "CheckboxModel",
            "_view_count": null,
            "_view_module": "@jupyter-widgets/controls",
            "_view_module_version": "1.5.0",
            "_view_name": "CheckboxView",
            "description": "Add token as git credential?",
            "description_tooltip": null,
            "disabled": false,
            "indent": true,
            "layout": "IPY_MODEL_010c4e299fb8412b906194c57652d92a",
            "style": "IPY_MODEL_bf7c847e52fa45939684f6f384827e06",
            "value": true
          }
        },
        "247b63b1384744a682d2655650391a01": {
          "model_module": "@jupyter-widgets/controls",
          "model_name": "ButtonModel",
          "model_module_version": "1.5.0",
          "state": {
            "_dom_classes": [],
            "_model_module": "@jupyter-widgets/controls",
            "_model_module_version": "1.5.0",
            "_model_name": "ButtonModel",
            "_view_count": null,
            "_view_module": "@jupyter-widgets/controls",
            "_view_module_version": "1.5.0",
            "_view_name": "ButtonView",
            "button_style": "",
            "description": "Login",
            "disabled": false,
            "icon": "",
            "layout": "IPY_MODEL_c1428ac9994841d09be26d2faf415399",
            "style": "IPY_MODEL_09f30bce9dba4bdfb00dc5827946db90",
            "tooltip": ""
          }
        },
        "27a39be256db4696a43db4a33621b1c1": {
          "model_module": "@jupyter-widgets/controls",
          "model_name": "HTMLModel",
          "model_module_version": "1.5.0",
          "state": {
            "_dom_classes": [],
            "_model_module": "@jupyter-widgets/controls",
            "_model_module_version": "1.5.0",
            "_model_name": "HTMLModel",
            "_view_count": null,
            "_view_module": "@jupyter-widgets/controls",
            "_view_module_version": "1.5.0",
            "_view_name": "HTMLView",
            "description": "",
            "description_tooltip": null,
            "layout": "IPY_MODEL_1b61e4ee6abc4e49aa15c1c2d72d9a27",
            "placeholder": "​",
            "style": "IPY_MODEL_fae9de69ec6b4bad9a84ea35311190d0",
            "value": "\n<b>Pro Tip:</b> If you don't already have one, you can create a dedicated\n'notebooks' token with 'write' access, that you can then easily reuse for all\nnotebooks. </center>"
          }
        },
        "1c8fc25ffc6b463e8f3ac5781dfb71bf": {
          "model_module": "@jupyter-widgets/base",
          "model_name": "LayoutModel",
          "model_module_version": "1.2.0",
          "state": {
            "_model_module": "@jupyter-widgets/base",
            "_model_module_version": "1.2.0",
            "_model_name": "LayoutModel",
            "_view_count": null,
            "_view_module": "@jupyter-widgets/base",
            "_view_module_version": "1.2.0",
            "_view_name": "LayoutView",
            "align_content": null,
            "align_items": "center",
            "align_self": null,
            "border": null,
            "bottom": null,
            "display": "flex",
            "flex": null,
            "flex_flow": "column",
            "grid_area": null,
            "grid_auto_columns": null,
            "grid_auto_flow": null,
            "grid_auto_rows": null,
            "grid_column": null,
            "grid_gap": null,
            "grid_row": null,
            "grid_template_areas": null,
            "grid_template_columns": null,
            "grid_template_rows": null,
            "height": null,
            "justify_content": null,
            "justify_items": null,
            "left": null,
            "margin": null,
            "max_height": null,
            "max_width": null,
            "min_height": null,
            "min_width": null,
            "object_fit": null,
            "object_position": null,
            "order": null,
            "overflow": null,
            "overflow_x": null,
            "overflow_y": null,
            "padding": null,
            "right": null,
            "top": null,
            "visibility": null,
            "width": "50%"
          }
        },
        "1ede547469204111aac8646a2a223f82": {
          "model_module": "@jupyter-widgets/base",
          "model_name": "LayoutModel",
          "model_module_version": "1.2.0",
          "state": {
            "_model_module": "@jupyter-widgets/base",
            "_model_module_version": "1.2.0",
            "_model_name": "LayoutModel",
            "_view_count": null,
            "_view_module": "@jupyter-widgets/base",
            "_view_module_version": "1.2.0",
            "_view_name": "LayoutView",
            "align_content": null,
            "align_items": null,
            "align_self": null,
            "border": null,
            "bottom": null,
            "display": null,
            "flex": null,
            "flex_flow": null,
            "grid_area": null,
            "grid_auto_columns": null,
            "grid_auto_flow": null,
            "grid_auto_rows": null,
            "grid_column": null,
            "grid_gap": null,
            "grid_row": null,
            "grid_template_areas": null,
            "grid_template_columns": null,
            "grid_template_rows": null,
            "height": null,
            "justify_content": null,
            "justify_items": null,
            "left": null,
            "margin": null,
            "max_height": null,
            "max_width": null,
            "min_height": null,
            "min_width": null,
            "object_fit": null,
            "object_position": null,
            "order": null,
            "overflow": null,
            "overflow_x": null,
            "overflow_y": null,
            "padding": null,
            "right": null,
            "top": null,
            "visibility": null,
            "width": null
          }
        },
        "29c0e9f603b54094b3814a9c1c8050b7": {
          "model_module": "@jupyter-widgets/controls",
          "model_name": "DescriptionStyleModel",
          "model_module_version": "1.5.0",
          "state": {
            "_model_module": "@jupyter-widgets/controls",
            "_model_module_version": "1.5.0",
            "_model_name": "DescriptionStyleModel",
            "_view_count": null,
            "_view_module": "@jupyter-widgets/base",
            "_view_module_version": "1.2.0",
            "_view_name": "StyleView",
            "description_width": ""
          }
        },
        "d50e3e9854564404a7e74ba5f155ce86": {
          "model_module": "@jupyter-widgets/base",
          "model_name": "LayoutModel",
          "model_module_version": "1.2.0",
          "state": {
            "_model_module": "@jupyter-widgets/base",
            "_model_module_version": "1.2.0",
            "_model_name": "LayoutModel",
            "_view_count": null,
            "_view_module": "@jupyter-widgets/base",
            "_view_module_version": "1.2.0",
            "_view_name": "LayoutView",
            "align_content": null,
            "align_items": null,
            "align_self": null,
            "border": null,
            "bottom": null,
            "display": null,
            "flex": null,
            "flex_flow": null,
            "grid_area": null,
            "grid_auto_columns": null,
            "grid_auto_flow": null,
            "grid_auto_rows": null,
            "grid_column": null,
            "grid_gap": null,
            "grid_row": null,
            "grid_template_areas": null,
            "grid_template_columns": null,
            "grid_template_rows": null,
            "height": null,
            "justify_content": null,
            "justify_items": null,
            "left": null,
            "margin": null,
            "max_height": null,
            "max_width": null,
            "min_height": null,
            "min_width": null,
            "object_fit": null,
            "object_position": null,
            "order": null,
            "overflow": null,
            "overflow_x": null,
            "overflow_y": null,
            "padding": null,
            "right": null,
            "top": null,
            "visibility": null,
            "width": null
          }
        },
        "9371da113a894325868d098fda0a707a": {
          "model_module": "@jupyter-widgets/controls",
          "model_name": "DescriptionStyleModel",
          "model_module_version": "1.5.0",
          "state": {
            "_model_module": "@jupyter-widgets/controls",
            "_model_module_version": "1.5.0",
            "_model_name": "DescriptionStyleModel",
            "_view_count": null,
            "_view_module": "@jupyter-widgets/base",
            "_view_module_version": "1.2.0",
            "_view_name": "StyleView",
            "description_width": ""
          }
        },
        "010c4e299fb8412b906194c57652d92a": {
          "model_module": "@jupyter-widgets/base",
          "model_name": "LayoutModel",
          "model_module_version": "1.2.0",
          "state": {
            "_model_module": "@jupyter-widgets/base",
            "_model_module_version": "1.2.0",
            "_model_name": "LayoutModel",
            "_view_count": null,
            "_view_module": "@jupyter-widgets/base",
            "_view_module_version": "1.2.0",
            "_view_name": "LayoutView",
            "align_content": null,
            "align_items": null,
            "align_self": null,
            "border": null,
            "bottom": null,
            "display": null,
            "flex": null,
            "flex_flow": null,
            "grid_area": null,
            "grid_auto_columns": null,
            "grid_auto_flow": null,
            "grid_auto_rows": null,
            "grid_column": null,
            "grid_gap": null,
            "grid_row": null,
            "grid_template_areas": null,
            "grid_template_columns": null,
            "grid_template_rows": null,
            "height": null,
            "justify_content": null,
            "justify_items": null,
            "left": null,
            "margin": null,
            "max_height": null,
            "max_width": null,
            "min_height": null,
            "min_width": null,
            "object_fit": null,
            "object_position": null,
            "order": null,
            "overflow": null,
            "overflow_x": null,
            "overflow_y": null,
            "padding": null,
            "right": null,
            "top": null,
            "visibility": null,
            "width": null
          }
        },
        "bf7c847e52fa45939684f6f384827e06": {
          "model_module": "@jupyter-widgets/controls",
          "model_name": "DescriptionStyleModel",
          "model_module_version": "1.5.0",
          "state": {
            "_model_module": "@jupyter-widgets/controls",
            "_model_module_version": "1.5.0",
            "_model_name": "DescriptionStyleModel",
            "_view_count": null,
            "_view_module": "@jupyter-widgets/base",
            "_view_module_version": "1.2.0",
            "_view_name": "StyleView",
            "description_width": ""
          }
        },
        "c1428ac9994841d09be26d2faf415399": {
          "model_module": "@jupyter-widgets/base",
          "model_name": "LayoutModel",
          "model_module_version": "1.2.0",
          "state": {
            "_model_module": "@jupyter-widgets/base",
            "_model_module_version": "1.2.0",
            "_model_name": "LayoutModel",
            "_view_count": null,
            "_view_module": "@jupyter-widgets/base",
            "_view_module_version": "1.2.0",
            "_view_name": "LayoutView",
            "align_content": null,
            "align_items": null,
            "align_self": null,
            "border": null,
            "bottom": null,
            "display": null,
            "flex": null,
            "flex_flow": null,
            "grid_area": null,
            "grid_auto_columns": null,
            "grid_auto_flow": null,
            "grid_auto_rows": null,
            "grid_column": null,
            "grid_gap": null,
            "grid_row": null,
            "grid_template_areas": null,
            "grid_template_columns": null,
            "grid_template_rows": null,
            "height": null,
            "justify_content": null,
            "justify_items": null,
            "left": null,
            "margin": null,
            "max_height": null,
            "max_width": null,
            "min_height": null,
            "min_width": null,
            "object_fit": null,
            "object_position": null,
            "order": null,
            "overflow": null,
            "overflow_x": null,
            "overflow_y": null,
            "padding": null,
            "right": null,
            "top": null,
            "visibility": null,
            "width": null
          }
        },
        "09f30bce9dba4bdfb00dc5827946db90": {
          "model_module": "@jupyter-widgets/controls",
          "model_name": "ButtonStyleModel",
          "model_module_version": "1.5.0",
          "state": {
            "_model_module": "@jupyter-widgets/controls",
            "_model_module_version": "1.5.0",
            "_model_name": "ButtonStyleModel",
            "_view_count": null,
            "_view_module": "@jupyter-widgets/base",
            "_view_module_version": "1.2.0",
            "_view_name": "StyleView",
            "button_color": null,
            "font_weight": ""
          }
        },
        "1b61e4ee6abc4e49aa15c1c2d72d9a27": {
          "model_module": "@jupyter-widgets/base",
          "model_name": "LayoutModel",
          "model_module_version": "1.2.0",
          "state": {
            "_model_module": "@jupyter-widgets/base",
            "_model_module_version": "1.2.0",
            "_model_name": "LayoutModel",
            "_view_count": null,
            "_view_module": "@jupyter-widgets/base",
            "_view_module_version": "1.2.0",
            "_view_name": "LayoutView",
            "align_content": null,
            "align_items": null,
            "align_self": null,
            "border": null,
            "bottom": null,
            "display": null,
            "flex": null,
            "flex_flow": null,
            "grid_area": null,
            "grid_auto_columns": null,
            "grid_auto_flow": null,
            "grid_auto_rows": null,
            "grid_column": null,
            "grid_gap": null,
            "grid_row": null,
            "grid_template_areas": null,
            "grid_template_columns": null,
            "grid_template_rows": null,
            "height": null,
            "justify_content": null,
            "justify_items": null,
            "left": null,
            "margin": null,
            "max_height": null,
            "max_width": null,
            "min_height": null,
            "min_width": null,
            "object_fit": null,
            "object_position": null,
            "order": null,
            "overflow": null,
            "overflow_x": null,
            "overflow_y": null,
            "padding": null,
            "right": null,
            "top": null,
            "visibility": null,
            "width": null
          }
        },
        "fae9de69ec6b4bad9a84ea35311190d0": {
          "model_module": "@jupyter-widgets/controls",
          "model_name": "DescriptionStyleModel",
          "model_module_version": "1.5.0",
          "state": {
            "_model_module": "@jupyter-widgets/controls",
            "_model_module_version": "1.5.0",
            "_model_name": "DescriptionStyleModel",
            "_view_count": null,
            "_view_module": "@jupyter-widgets/base",
            "_view_module_version": "1.2.0",
            "_view_name": "StyleView",
            "description_width": ""
          }
        },
        "c62dbd9ef49c4c3b8519bb116b2e0836": {
          "model_module": "@jupyter-widgets/controls",
          "model_name": "LabelModel",
          "model_module_version": "1.5.0",
          "state": {
            "_dom_classes": [],
            "_model_module": "@jupyter-widgets/controls",
            "_model_module_version": "1.5.0",
            "_model_name": "LabelModel",
            "_view_count": null,
            "_view_module": "@jupyter-widgets/controls",
            "_view_module_version": "1.5.0",
            "_view_name": "LabelView",
            "description": "",
            "description_tooltip": null,
            "layout": "IPY_MODEL_4ea24f308c934b4dbbd5c53691b8e55d",
            "placeholder": "​",
            "style": "IPY_MODEL_91d80621b8034b27a66bbeeb25560194",
            "value": "Connecting..."
          }
        },
        "4ea24f308c934b4dbbd5c53691b8e55d": {
          "model_module": "@jupyter-widgets/base",
          "model_name": "LayoutModel",
          "model_module_version": "1.2.0",
          "state": {
            "_model_module": "@jupyter-widgets/base",
            "_model_module_version": "1.2.0",
            "_model_name": "LayoutModel",
            "_view_count": null,
            "_view_module": "@jupyter-widgets/base",
            "_view_module_version": "1.2.0",
            "_view_name": "LayoutView",
            "align_content": null,
            "align_items": null,
            "align_self": null,
            "border": null,
            "bottom": null,
            "display": null,
            "flex": null,
            "flex_flow": null,
            "grid_area": null,
            "grid_auto_columns": null,
            "grid_auto_flow": null,
            "grid_auto_rows": null,
            "grid_column": null,
            "grid_gap": null,
            "grid_row": null,
            "grid_template_areas": null,
            "grid_template_columns": null,
            "grid_template_rows": null,
            "height": null,
            "justify_content": null,
            "justify_items": null,
            "left": null,
            "margin": null,
            "max_height": null,
            "max_width": null,
            "min_height": null,
            "min_width": null,
            "object_fit": null,
            "object_position": null,
            "order": null,
            "overflow": null,
            "overflow_x": null,
            "overflow_y": null,
            "padding": null,
            "right": null,
            "top": null,
            "visibility": null,
            "width": null
          }
        },
        "91d80621b8034b27a66bbeeb25560194": {
          "model_module": "@jupyter-widgets/controls",
          "model_name": "DescriptionStyleModel",
          "model_module_version": "1.5.0",
          "state": {
            "_model_module": "@jupyter-widgets/controls",
            "_model_module_version": "1.5.0",
            "_model_name": "DescriptionStyleModel",
            "_view_count": null,
            "_view_module": "@jupyter-widgets/base",
            "_view_module_version": "1.2.0",
            "_view_name": "StyleView",
            "description_width": ""
          }
        },
        "43c0a3ce037848ae9f3a0cbc196f8980": {
          "model_module": "@jupyter-widgets/controls",
          "model_name": "LabelModel",
          "model_module_version": "1.5.0",
          "state": {
            "_dom_classes": [],
            "_model_module": "@jupyter-widgets/controls",
            "_model_module_version": "1.5.0",
            "_model_name": "LabelModel",
            "_view_count": null,
            "_view_module": "@jupyter-widgets/controls",
            "_view_module_version": "1.5.0",
            "_view_name": "LabelView",
            "description": "",
            "description_tooltip": null,
            "layout": "IPY_MODEL_9151c18640b34a9a97d8a215dc7e96fd",
            "placeholder": "​",
            "style": "IPY_MODEL_55cd2eecbfe2451989df89771a7371ba",
            "value": "Token is valid (permission: write)."
          }
        },
        "f24aaec0b81e498389b5b041d0829a05": {
          "model_module": "@jupyter-widgets/controls",
          "model_name": "LabelModel",
          "model_module_version": "1.5.0",
          "state": {
            "_dom_classes": [],
            "_model_module": "@jupyter-widgets/controls",
            "_model_module_version": "1.5.0",
            "_model_name": "LabelModel",
            "_view_count": null,
            "_view_module": "@jupyter-widgets/controls",
            "_view_module_version": "1.5.0",
            "_view_name": "LabelView",
            "description": "",
            "description_tooltip": null,
            "layout": "IPY_MODEL_d89aef5f3d6c46f58481a8fe053182ad",
            "placeholder": "​",
            "style": "IPY_MODEL_fe80eec7d66342f4ab9ad926eeddcf18",
            "value": "Your token has been saved in your configured git credential helpers (store)."
          }
        },
        "3adb023f9e3449839e28cce59c4f18d5": {
          "model_module": "@jupyter-widgets/controls",
          "model_name": "LabelModel",
          "model_module_version": "1.5.0",
          "state": {
            "_dom_classes": [],
            "_model_module": "@jupyter-widgets/controls",
            "_model_module_version": "1.5.0",
            "_model_name": "LabelModel",
            "_view_count": null,
            "_view_module": "@jupyter-widgets/controls",
            "_view_module_version": "1.5.0",
            "_view_name": "LabelView",
            "description": "",
            "description_tooltip": null,
            "layout": "IPY_MODEL_fcd1de6c8e63428287e324d069ed3408",
            "placeholder": "​",
            "style": "IPY_MODEL_4610c007d55a4e3dad08c3dd8e650807",
            "value": "Your token has been saved to /root/.cache/huggingface/token"
          }
        },
        "f581367f3ccf4113b76ab663bd6b10e4": {
          "model_module": "@jupyter-widgets/controls",
          "model_name": "LabelModel",
          "model_module_version": "1.5.0",
          "state": {
            "_dom_classes": [],
            "_model_module": "@jupyter-widgets/controls",
            "_model_module_version": "1.5.0",
            "_model_name": "LabelModel",
            "_view_count": null,
            "_view_module": "@jupyter-widgets/controls",
            "_view_module_version": "1.5.0",
            "_view_name": "LabelView",
            "description": "",
            "description_tooltip": null,
            "layout": "IPY_MODEL_dcd792ed4e3a43f7a1f442abfa93b77c",
            "placeholder": "​",
            "style": "IPY_MODEL_0f06496bf405424e85654ae0c51f9667",
            "value": "Login successful"
          }
        },
        "9151c18640b34a9a97d8a215dc7e96fd": {
          "model_module": "@jupyter-widgets/base",
          "model_name": "LayoutModel",
          "model_module_version": "1.2.0",
          "state": {
            "_model_module": "@jupyter-widgets/base",
            "_model_module_version": "1.2.0",
            "_model_name": "LayoutModel",
            "_view_count": null,
            "_view_module": "@jupyter-widgets/base",
            "_view_module_version": "1.2.0",
            "_view_name": "LayoutView",
            "align_content": null,
            "align_items": null,
            "align_self": null,
            "border": null,
            "bottom": null,
            "display": null,
            "flex": null,
            "flex_flow": null,
            "grid_area": null,
            "grid_auto_columns": null,
            "grid_auto_flow": null,
            "grid_auto_rows": null,
            "grid_column": null,
            "grid_gap": null,
            "grid_row": null,
            "grid_template_areas": null,
            "grid_template_columns": null,
            "grid_template_rows": null,
            "height": null,
            "justify_content": null,
            "justify_items": null,
            "left": null,
            "margin": null,
            "max_height": null,
            "max_width": null,
            "min_height": null,
            "min_width": null,
            "object_fit": null,
            "object_position": null,
            "order": null,
            "overflow": null,
            "overflow_x": null,
            "overflow_y": null,
            "padding": null,
            "right": null,
            "top": null,
            "visibility": null,
            "width": null
          }
        },
        "55cd2eecbfe2451989df89771a7371ba": {
          "model_module": "@jupyter-widgets/controls",
          "model_name": "DescriptionStyleModel",
          "model_module_version": "1.5.0",
          "state": {
            "_model_module": "@jupyter-widgets/controls",
            "_model_module_version": "1.5.0",
            "_model_name": "DescriptionStyleModel",
            "_view_count": null,
            "_view_module": "@jupyter-widgets/base",
            "_view_module_version": "1.2.0",
            "_view_name": "StyleView",
            "description_width": ""
          }
        },
        "d89aef5f3d6c46f58481a8fe053182ad": {
          "model_module": "@jupyter-widgets/base",
          "model_name": "LayoutModel",
          "model_module_version": "1.2.0",
          "state": {
            "_model_module": "@jupyter-widgets/base",
            "_model_module_version": "1.2.0",
            "_model_name": "LayoutModel",
            "_view_count": null,
            "_view_module": "@jupyter-widgets/base",
            "_view_module_version": "1.2.0",
            "_view_name": "LayoutView",
            "align_content": null,
            "align_items": null,
            "align_self": null,
            "border": null,
            "bottom": null,
            "display": null,
            "flex": null,
            "flex_flow": null,
            "grid_area": null,
            "grid_auto_columns": null,
            "grid_auto_flow": null,
            "grid_auto_rows": null,
            "grid_column": null,
            "grid_gap": null,
            "grid_row": null,
            "grid_template_areas": null,
            "grid_template_columns": null,
            "grid_template_rows": null,
            "height": null,
            "justify_content": null,
            "justify_items": null,
            "left": null,
            "margin": null,
            "max_height": null,
            "max_width": null,
            "min_height": null,
            "min_width": null,
            "object_fit": null,
            "object_position": null,
            "order": null,
            "overflow": null,
            "overflow_x": null,
            "overflow_y": null,
            "padding": null,
            "right": null,
            "top": null,
            "visibility": null,
            "width": null
          }
        },
        "fe80eec7d66342f4ab9ad926eeddcf18": {
          "model_module": "@jupyter-widgets/controls",
          "model_name": "DescriptionStyleModel",
          "model_module_version": "1.5.0",
          "state": {
            "_model_module": "@jupyter-widgets/controls",
            "_model_module_version": "1.5.0",
            "_model_name": "DescriptionStyleModel",
            "_view_count": null,
            "_view_module": "@jupyter-widgets/base",
            "_view_module_version": "1.2.0",
            "_view_name": "StyleView",
            "description_width": ""
          }
        },
        "fcd1de6c8e63428287e324d069ed3408": {
          "model_module": "@jupyter-widgets/base",
          "model_name": "LayoutModel",
          "model_module_version": "1.2.0",
          "state": {
            "_model_module": "@jupyter-widgets/base",
            "_model_module_version": "1.2.0",
            "_model_name": "LayoutModel",
            "_view_count": null,
            "_view_module": "@jupyter-widgets/base",
            "_view_module_version": "1.2.0",
            "_view_name": "LayoutView",
            "align_content": null,
            "align_items": null,
            "align_self": null,
            "border": null,
            "bottom": null,
            "display": null,
            "flex": null,
            "flex_flow": null,
            "grid_area": null,
            "grid_auto_columns": null,
            "grid_auto_flow": null,
            "grid_auto_rows": null,
            "grid_column": null,
            "grid_gap": null,
            "grid_row": null,
            "grid_template_areas": null,
            "grid_template_columns": null,
            "grid_template_rows": null,
            "height": null,
            "justify_content": null,
            "justify_items": null,
            "left": null,
            "margin": null,
            "max_height": null,
            "max_width": null,
            "min_height": null,
            "min_width": null,
            "object_fit": null,
            "object_position": null,
            "order": null,
            "overflow": null,
            "overflow_x": null,
            "overflow_y": null,
            "padding": null,
            "right": null,
            "top": null,
            "visibility": null,
            "width": null
          }
        },
        "4610c007d55a4e3dad08c3dd8e650807": {
          "model_module": "@jupyter-widgets/controls",
          "model_name": "DescriptionStyleModel",
          "model_module_version": "1.5.0",
          "state": {
            "_model_module": "@jupyter-widgets/controls",
            "_model_module_version": "1.5.0",
            "_model_name": "DescriptionStyleModel",
            "_view_count": null,
            "_view_module": "@jupyter-widgets/base",
            "_view_module_version": "1.2.0",
            "_view_name": "StyleView",
            "description_width": ""
          }
        },
        "dcd792ed4e3a43f7a1f442abfa93b77c": {
          "model_module": "@jupyter-widgets/base",
          "model_name": "LayoutModel",
          "model_module_version": "1.2.0",
          "state": {
            "_model_module": "@jupyter-widgets/base",
            "_model_module_version": "1.2.0",
            "_model_name": "LayoutModel",
            "_view_count": null,
            "_view_module": "@jupyter-widgets/base",
            "_view_module_version": "1.2.0",
            "_view_name": "LayoutView",
            "align_content": null,
            "align_items": null,
            "align_self": null,
            "border": null,
            "bottom": null,
            "display": null,
            "flex": null,
            "flex_flow": null,
            "grid_area": null,
            "grid_auto_columns": null,
            "grid_auto_flow": null,
            "grid_auto_rows": null,
            "grid_column": null,
            "grid_gap": null,
            "grid_row": null,
            "grid_template_areas": null,
            "grid_template_columns": null,
            "grid_template_rows": null,
            "height": null,
            "justify_content": null,
            "justify_items": null,
            "left": null,
            "margin": null,
            "max_height": null,
            "max_width": null,
            "min_height": null,
            "min_width": null,
            "object_fit": null,
            "object_position": null,
            "order": null,
            "overflow": null,
            "overflow_x": null,
            "overflow_y": null,
            "padding": null,
            "right": null,
            "top": null,
            "visibility": null,
            "width": null
          }
        },
        "0f06496bf405424e85654ae0c51f9667": {
          "model_module": "@jupyter-widgets/controls",
          "model_name": "DescriptionStyleModel",
          "model_module_version": "1.5.0",
          "state": {
            "_model_module": "@jupyter-widgets/controls",
            "_model_module_version": "1.5.0",
            "_model_name": "DescriptionStyleModel",
            "_view_count": null,
            "_view_module": "@jupyter-widgets/base",
            "_view_module_version": "1.2.0",
            "_view_name": "StyleView",
            "description_width": ""
          }
        }
      }
    }
  },
  "nbformat_minor": 0,
  "nbformat": 4,
  "cells": [
    {
      "cell_type": "code",
      "source": [
        "'''import os\n",
        "for dirname, _, filenames in os.walk('/kaggle/input'):\n",
        "    for filename in filenames:\n",
        "        print(os.path.join(dirname, filename))''''''"
      ],
      "metadata": {
        "execution": {
          "iopub.status.busy": "2023-06-05T07:37:00.246477Z",
          "iopub.status.idle": "2023-06-05T07:37:00.247482Z",
          "shell.execute_reply.started": "2023-06-05T07:37:00.247239Z",
          "shell.execute_reply": "2023-06-05T07:37:00.247261Z"
        },
        "trusted": true,
        "id": "XrJQNVISGgo6"
      },
      "execution_count": null,
      "outputs": []
    },
    {
      "cell_type": "code",
      "source": [
        "from IPython.display import clear_output\n",
        "!pip install  transformers --quiet\n",
        "!pip install rouge_score -q\n",
        "!pip install deep-phonemizer -q\n",
        "!pip install opendatasets -q\n",
        "!pip install  datasets -q\n",
        "!pip uninstall -y transformers accelerate -q\n",
        "!pip install transformers accelerate -q\n",
        "!pip install evaluate -q\n",
        "!pip install pycocoevalcap -q\n",
        "!pip install -U nltk \n",
        "!pip install huggingface_hub -q\n",
        "clear_output()"
      ],
      "metadata": {
        "id": "XoCAC7-2ay-8",
        "execution": {
          "iopub.status.busy": "2023-06-06T09:22:16.149791Z",
          "iopub.execute_input": "2023-06-06T09:22:16.150244Z",
          "iopub.status.idle": "2023-06-06T09:24:43.392081Z",
          "shell.execute_reply.started": "2023-06-06T09:22:16.150215Z",
          "shell.execute_reply": "2023-06-06T09:24:43.390868Z"
        },
        "trusted": true
      },
      "execution_count": null,
      "outputs": []
    },
    {
      "cell_type": "code",
      "source": [
        "nltk.download('wordnet')"
      ],
      "metadata": {
        "execution": {
          "iopub.status.busy": "2023-06-06T09:25:21.346912Z",
          "iopub.execute_input": "2023-06-06T09:25:21.347348Z",
          "iopub.status.idle": "2023-06-06T09:25:21.507622Z",
          "shell.execute_reply.started": "2023-06-06T09:25:21.347314Z",
          "shell.execute_reply": "2023-06-06T09:25:21.506622Z"
        },
        "trusted": true,
        "colab": {
          "base_uri": "https://localhost:8080/"
        },
        "id": "SX54pSDkGgo_",
        "outputId": "2c2eb9b2-8ab8-4580-aafb-b7285ae34fd1"
      },
      "execution_count": null,
      "outputs": [
        {
          "output_type": "stream",
          "name": "stderr",
          "text": [
            "[nltk_data] Downloading package wordnet to /root/nltk_data...\n"
          ]
        },
        {
          "output_type": "execute_result",
          "data": {
            "text/plain": [
              "True"
            ]
          },
          "metadata": {},
          "execution_count": 6
        }
      ]
    },
    {
      "cell_type": "code",
      "source": [
        "!unzip   /usr/share/nltk_data/corpora/wordnet.zip -d   /usr/share/nltk_data/corpora/\n",
        "\n"
      ],
      "metadata": {
        "execution": {
          "iopub.status.busy": "2023-06-06T09:25:21.508952Z",
          "iopub.execute_input": "2023-06-06T09:25:21.509352Z",
          "iopub.status.idle": "2023-06-06T09:25:22.746154Z",
          "shell.execute_reply.started": "2023-06-06T09:25:21.509320Z",
          "shell.execute_reply": "2023-06-06T09:25:22.745113Z"
        },
        "trusted": true,
        "colab": {
          "base_uri": "https://localhost:8080/"
        },
        "id": "KAwDwoYQGgo_",
        "outputId": "5041c2b3-bc2a-4c4d-f728-e93728e811b1"
      },
      "execution_count": null,
      "outputs": [
        {
          "output_type": "stream",
          "name": "stdout",
          "text": [
            "unzip:  cannot find or open /usr/share/nltk_data/corpora/wordnet.zip, /usr/share/nltk_data/corpora/wordnet.zip.zip or /usr/share/nltk_data/corpora/wordnet.zip.ZIP.\n"
          ]
        }
      ]
    },
    {
      "cell_type": "code",
      "source": [
        "import requests\n",
        "\n",
        "import os\n",
        "\n",
        "import datasets\n",
        "import numpy as np\n",
        "import pandas as pd\n",
        "from PIL import Image\n",
        "from pathlib import Path\n",
        "#from tqdm import tqdm\n",
        "#from tqdm.auto import tqdm\n",
        "#import multiprocessing as mp\n",
        "import nltk\n",
        "\n",
        "import torch\n",
        "import torch.nn as nn\n",
        "import torch.nn.functional as F\n",
        "from torchvision import io, transforms\n",
        "from torch.utils.data import Dataset, DataLoader, random_split\n",
        "\n",
        "from transformers import Seq2SeqTrainer ,Seq2SeqTrainingArguments\n",
        "from transformers import VisionEncoderDecoderModel , ViTImageProcessor, ViTFeatureExtractor\n",
        "from transformers import GPT2Config , default_data_collator\n",
        "from transformers import GPT2TokenizerFast\n",
        "from transformers import pipeline,VisionEncoderDecoderConfig\n",
        "\n",
        "import evaluate\n",
        "\n",
        "if torch.cuda.is_available():    \n",
        "\n",
        "    device = torch.device(\"cuda\")\n",
        "\n",
        "    print('There are %d GPU(s) available.' % torch.cuda.device_count())\n",
        "\n",
        "    print('We will use the GPU:', torch.cuda.get_device_name(0))\n",
        "\n",
        "else:\n",
        "    print('No GPU available, using the CPU instead.')\n",
        "    device = torch.device(\"cpu\")"
      ],
      "metadata": {
        "id": "3f9e1113",
        "outputId": "d26f28e8-9b09-4302-e7a0-24a6e0620563",
        "execution": {
          "iopub.status.busy": "2023-06-06T09:26:11.252498Z",
          "iopub.execute_input": "2023-06-06T09:26:11.253267Z",
          "iopub.status.idle": "2023-06-06T09:26:28.075985Z",
          "shell.execute_reply.started": "2023-06-06T09:26:11.253233Z",
          "shell.execute_reply": "2023-06-06T09:26:28.074925Z"
        },
        "trusted": true,
        "colab": {
          "base_uri": "https://localhost:8080/"
        }
      },
      "execution_count": null,
      "outputs": [
        {
          "output_type": "stream",
          "name": "stdout",
          "text": [
            "There are 1 GPU(s) available.\n",
            "We will use the GPU: Tesla T4\n"
          ]
        }
      ]
    },
    {
      "cell_type": "code",
      "source": [
        "'''\n",
        "from pycocoevalcap.cider.cider import Cider\n",
        "from pycocoevalcap.spice.spice import Spice '''"
      ],
      "metadata": {
        "id": "18_4QTj0mYcs",
        "execution": {
          "iopub.status.busy": "2023-06-05T21:56:30.066316Z",
          "iopub.execute_input": "2023-06-05T21:56:30.067365Z",
          "iopub.status.idle": "2023-06-05T21:56:30.078786Z",
          "shell.execute_reply.started": "2023-06-05T21:56:30.067317Z",
          "shell.execute_reply": "2023-06-05T21:56:30.074710Z"
        },
        "trusted": true,
        "colab": {
          "base_uri": "https://localhost:8080/",
          "height": 35
        },
        "outputId": "2e42dfcf-5391-43bc-80c5-26e3953ed1e6"
      },
      "execution_count": null,
      "outputs": [
        {
          "output_type": "execute_result",
          "data": {
            "text/plain": [
              "'\\nfrom pycocoevalcap.cider.cider import Cider\\nfrom pycocoevalcap.spice.spice import Spice '"
            ],
            "application/vnd.google.colaboratory.intrinsic+json": {
              "type": "string"
            }
          },
          "metadata": {},
          "execution_count": 9
        }
      ]
    },
    {
      "cell_type": "code",
      "source": [
        "#Loading data in colab\n",
        "import opendatasets as od\n",
        "od.download(\n",
        "    \"https://www.kaggle.com/datasets/adityajn105/flickr8k\")"
      ],
      "metadata": {
        "id": "EF9ni4S5dyZK",
        "outputId": "290b275b-0a9c-45cd-f9cb-f9a230571476",
        "execution": {
          "iopub.status.busy": "2023-06-05T21:56:30.080351Z",
          "iopub.execute_input": "2023-06-05T21:56:30.081333Z",
          "iopub.status.idle": "2023-06-05T21:56:30.093077Z",
          "shell.execute_reply.started": "2023-06-05T21:56:30.081295Z",
          "shell.execute_reply": "2023-06-05T21:56:30.091926Z"
        },
        "trusted": true,
        "colab": {
          "base_uri": "https://localhost:8080/"
        }
      },
      "execution_count": null,
      "outputs": [
        {
          "output_type": "stream",
          "name": "stdout",
          "text": [
            "Skipping, found downloaded files in \"./flickr8k\" (use force=True to force download)\n"
          ]
        }
      ]
    },
    {
      "cell_type": "markdown",
      "source": [
        "# Initializing the Encoder-Decoder Model"
      ],
      "metadata": {
        "id": "6c6b51fe"
      }
    },
    {
      "cell_type": "code",
      "source": [
        "#encoder_model = \"google/vit-base-patch16-224\"\n",
        "encoder_model = \"microsoft/swin-base-patch4-window7-224-in22k\"\n",
        "decoder_model = \"gpt2\""
      ],
      "metadata": {
        "id": "84f23221",
        "execution": {
          "iopub.status.busy": "2023-06-06T09:26:28.078064Z",
          "iopub.execute_input": "2023-06-06T09:26:28.078414Z",
          "iopub.status.idle": "2023-06-06T09:26:28.086709Z",
          "shell.execute_reply.started": "2023-06-06T09:26:28.078379Z",
          "shell.execute_reply": "2023-06-06T09:26:28.085624Z"
        },
        "trusted": true
      },
      "execution_count": null,
      "outputs": []
    },
    {
      "cell_type": "code",
      "source": [
        "os.environ[\"WANDB_DISABLED\"] = \"true\""
      ],
      "metadata": {
        "id": "-odv-carZsYc",
        "execution": {
          "iopub.status.busy": "2023-06-06T09:26:28.087992Z",
          "iopub.execute_input": "2023-06-06T09:26:28.088785Z",
          "iopub.status.idle": "2023-06-06T09:26:28.105891Z",
          "shell.execute_reply.started": "2023-06-06T09:26:28.088743Z",
          "shell.execute_reply": "2023-06-06T09:26:28.104867Z"
        },
        "trusted": true
      },
      "execution_count": null,
      "outputs": []
    },
    {
      "cell_type": "code",
      "source": [
        "model = VisionEncoderDecoderModel.from_encoder_decoder_pretrained(\n",
        "    encoder_model, decoder_model).to(device)"
      ],
      "metadata": {
        "id": "4vzTakXXf6Bn",
        "outputId": "0027193f-67db-426f-fe9d-929e6380e44a",
        "execution": {
          "iopub.status.busy": "2023-06-06T09:26:28.110938Z",
          "iopub.execute_input": "2023-06-06T09:26:28.111241Z",
          "iopub.status.idle": "2023-06-06T09:26:45.464413Z",
          "shell.execute_reply.started": "2023-06-06T09:26:28.111214Z",
          "shell.execute_reply": "2023-06-06T09:26:45.463466Z"
        },
        "trusted": true,
        "colab": {
          "base_uri": "https://localhost:8080/"
        }
      },
      "execution_count": null,
      "outputs": [
        {
          "output_type": "stream",
          "name": "stderr",
          "text": [
            "Some weights of the model checkpoint at microsoft/swin-base-patch4-window7-224-in22k were not used when initializing SwinModel: ['classifier.bias', 'classifier.weight']\n",
            "- This IS expected if you are initializing SwinModel from the checkpoint of a model trained on another task or with another architecture (e.g. initializing a BertForSequenceClassification model from a BertForPreTraining model).\n",
            "- This IS NOT expected if you are initializing SwinModel from the checkpoint of a model that you expect to be exactly identical (initializing a BertForSequenceClassification model from a BertForSequenceClassification model).\n",
            "Some weights of GPT2LMHeadModel were not initialized from the model checkpoint at gpt2 and are newly initialized: ['h.5.crossattention.masked_bias', 'h.7.ln_cross_attn.weight', 'h.1.crossattention.c_attn.weight', 'h.9.crossattention.masked_bias', 'h.4.crossattention.c_attn.weight', 'h.5.crossattention.q_attn.weight', 'h.0.crossattention.c_attn.weight', 'h.7.crossattention.c_proj.weight', 'h.4.crossattention.q_attn.weight', 'h.5.crossattention.c_attn.weight', 'h.11.crossattention.q_attn.weight', 'h.4.crossattention.c_proj.bias', 'h.10.ln_cross_attn.weight', 'h.2.crossattention.c_proj.bias', 'h.10.crossattention.c_proj.bias', 'h.0.ln_cross_attn.weight', 'h.0.crossattention.bias', 'h.3.crossattention.masked_bias', 'h.2.ln_cross_attn.weight', 'h.5.crossattention.c_proj.bias', 'h.3.crossattention.c_attn.weight', 'h.6.crossattention.c_proj.bias', 'h.9.crossattention.c_proj.bias', 'h.8.crossattention.c_proj.weight', 'h.7.crossattention.q_attn.weight', 'h.5.crossattention.c_proj.weight', 'h.1.crossattention.c_proj.bias', 'h.11.crossattention.c_proj.weight', 'h.9.crossattention.bias', 'h.5.crossattention.bias', 'h.11.crossattention.bias', 'h.8.ln_cross_attn.weight', 'h.6.ln_cross_attn.weight', 'h.10.crossattention.q_attn.weight', 'h.0.crossattention.c_proj.weight', 'h.10.crossattention.c_attn.weight', 'h.10.crossattention.bias', 'h.8.crossattention.q_attn.weight', 'h.9.crossattention.q_attn.weight', 'h.1.ln_cross_attn.weight', 'h.5.ln_cross_attn.weight', 'h.9.crossattention.c_attn.weight', 'h.6.crossattention.masked_bias', 'h.0.crossattention.c_proj.bias', 'h.4.crossattention.masked_bias', 'h.2.crossattention.c_attn.weight', 'h.6.crossattention.q_attn.weight', 'h.2.crossattention.bias', 'h.8.crossattention.c_proj.bias', 'h.7.crossattention.masked_bias', 'h.7.crossattention.c_attn.weight', 'h.1.crossattention.bias', 'h.6.crossattention.c_attn.weight', 'h.3.ln_cross_attn.weight', 'h.2.crossattention.q_attn.weight', 'h.9.ln_cross_attn.weight', 'h.0.crossattention.masked_bias', 'h.3.crossattention.bias', 'h.3.crossattention.c_proj.weight', 'h.6.crossattention.bias', 'h.9.crossattention.c_proj.weight', 'h.1.crossattention.c_proj.weight', 'h.10.crossattention.masked_bias', 'h.11.crossattention.masked_bias', 'h.11.crossattention.c_proj.bias', 'h.6.crossattention.c_proj.weight', 'h.3.crossattention.q_attn.weight', 'h.2.crossattention.masked_bias', 'h.1.crossattention.masked_bias', 'h.4.crossattention.bias', 'h.11.ln_cross_attn.weight', 'h.8.crossattention.bias', 'h.4.crossattention.c_proj.weight', 'h.7.crossattention.bias', 'h.0.crossattention.q_attn.weight', 'h.11.crossattention.c_attn.weight', 'h.8.crossattention.masked_bias', 'h.4.ln_cross_attn.weight', 'h.7.crossattention.c_proj.bias', 'h.8.crossattention.c_attn.weight', 'h.10.crossattention.c_proj.weight', 'h.2.crossattention.c_proj.weight', 'h.3.crossattention.c_proj.bias', 'h.1.crossattention.q_attn.weight']\n",
            "You should probably TRAIN this model on a down-stream task to be able to use it for predictions and inference.\n"
          ]
        }
      ]
    },
    {
      "cell_type": "code",
      "source": [
        "#model.config"
      ],
      "metadata": {
        "id": "PFUSqthKR_14",
        "execution": {
          "iopub.status.busy": "2023-06-05T21:56:54.430998Z",
          "iopub.execute_input": "2023-06-05T21:56:54.432016Z",
          "iopub.status.idle": "2023-06-05T21:56:54.436581Z",
          "shell.execute_reply.started": "2023-06-05T21:56:54.431980Z",
          "shell.execute_reply": "2023-06-05T21:56:54.435350Z"
        },
        "trusted": true
      },
      "execution_count": null,
      "outputs": []
    },
    {
      "cell_type": "markdown",
      "source": [
        "## Defining the Tokenizing and Feature Extractor"
      ],
      "metadata": {
        "id": "96HJbq-SoH1B"
      }
    },
    {
      "cell_type": "code",
      "source": [
        "\n",
        "tokenizer = GPT2TokenizerFast.from_pretrained(decoder_model)\n",
        "image_processor =  ViTFeatureExtractor.from_pretrained(encoder_model)"
      ],
      "metadata": {
        "id": "neXCCtgTaxk3",
        "outputId": "13967991-1c28-43aa-e907-4d33bb52449c",
        "execution": {
          "iopub.status.busy": "2023-06-06T09:26:45.466058Z",
          "iopub.execute_input": "2023-06-06T09:26:45.466434Z",
          "iopub.status.idle": "2023-06-06T09:26:46.692057Z",
          "shell.execute_reply.started": "2023-06-06T09:26:45.466400Z",
          "shell.execute_reply": "2023-06-06T09:26:46.691045Z"
        },
        "trusted": true,
        "colab": {
          "base_uri": "https://localhost:8080/"
        }
      },
      "execution_count": null,
      "outputs": [
        {
          "output_type": "stream",
          "name": "stderr",
          "text": [
            "/usr/local/lib/python3.10/dist-packages/transformers/models/vit/feature_extraction_vit.py:28: FutureWarning: The class ViTFeatureExtractor is deprecated and will be removed in version 5 of Transformers. Please use ViTImageProcessor instead.\n",
            "  warnings.warn(\n"
          ]
        }
      ]
    },
    {
      "cell_type": "code",
      "source": [
        "\n",
        "tokenizer.pad_token = tokenizer.eos_token \n",
        "model.config.eos_token_id = tokenizer.eos_token_id\n",
        "model.config.pad_token_id = tokenizer.pad_token_id\n",
        "model.config.decoder_start_token_id = tokenizer.bos_token_id\n",
        "model.config.early_stopping = True\n",
        "model.config.no_repeat_ngram_size = 3\n",
        "model.config.length_penalty = 2.0\n",
        "model.config.num_beams = 5\n",
        "model.config.num_return_sequences = 2\n",
        "model.config.vocab_size = model.config.decoder.vocab_size\n"
      ],
      "metadata": {
        "id": "BrIJKzCztXX4",
        "execution": {
          "iopub.status.busy": "2023-06-06T09:26:46.694396Z",
          "iopub.execute_input": "2023-06-06T09:26:46.695521Z",
          "iopub.status.idle": "2023-06-06T09:26:46.702973Z",
          "shell.execute_reply.started": "2023-06-06T09:26:46.695482Z",
          "shell.execute_reply": "2023-06-06T09:26:46.701627Z"
        },
        "trusted": true
      },
      "execution_count": null,
      "outputs": []
    },
    {
      "cell_type": "markdown",
      "source": [
        "# Preparing the Dataset"
      ],
      "metadata": {
        "id": "mbQv9o6HaKfx"
      }
    },
    {
      "cell_type": "code",
      "source": [
        "#transformimg the images and converting them to tensors\n",
        "train_transforms = transforms.Compose(\n",
        "    [\n",
        "        transforms.Resize((224,224)), \n",
        "        transforms.ToTensor(),\n",
        "        transforms.Normalize(\n",
        "            mean=0, \n",
        "            std=1\n",
        "        )\n",
        "   ]\n",
        ")\n"
      ],
      "metadata": {
        "id": "8V4oS8jgbG7z",
        "execution": {
          "iopub.status.busy": "2023-06-06T09:28:24.664445Z",
          "iopub.execute_input": "2023-06-06T09:28:24.665519Z",
          "iopub.status.idle": "2023-06-06T09:28:24.670783Z",
          "shell.execute_reply.started": "2023-06-06T09:28:24.665481Z",
          "shell.execute_reply": "2023-06-06T09:28:24.669303Z"
        },
        "trusted": true
      },
      "execution_count": null,
      "outputs": []
    },
    {
      "cell_type": "code",
      "source": [
        "def load_document(filename):\n",
        "    file=open(filename,'r',encoding='utf-8')\n",
        "    text=file.read()\n",
        "    file.close()\n",
        "    return text"
      ],
      "metadata": {
        "id": "OBxfI5JpiZtU",
        "execution": {
          "iopub.status.busy": "2023-06-06T09:27:23.414282Z",
          "iopub.execute_input": "2023-06-06T09:27:23.414685Z",
          "iopub.status.idle": "2023-06-06T09:27:23.419826Z",
          "shell.execute_reply.started": "2023-06-06T09:27:23.414652Z",
          "shell.execute_reply": "2023-06-06T09:27:23.418831Z"
        },
        "trusted": true
      },
      "execution_count": null,
      "outputs": []
    },
    {
      "cell_type": "code",
      "source": [
        "import pandas as pd\n",
        "data=  pd.read_csv(\"flickr8k/captions.txt\")\n",
        "data"
      ],
      "metadata": {
        "id": "oRag_gJnoQ_4",
        "execution": {
          "iopub.status.busy": "2023-06-06T09:27:26.402495Z",
          "iopub.execute_input": "2023-06-06T09:27:26.402922Z",
          "iopub.status.idle": "2023-06-06T09:27:26.433652Z",
          "shell.execute_reply.started": "2023-06-06T09:27:26.402872Z",
          "shell.execute_reply": "2023-06-06T09:27:26.432690Z"
        },
        "trusted": true,
        "colab": {
          "base_uri": "https://localhost:8080/",
          "height": 424
        },
        "outputId": "e49024ce-8781-4b72-b495-03ffc24393de"
      },
      "execution_count": null,
      "outputs": [
        {
          "output_type": "execute_result",
          "data": {
            "text/plain": [
              "                           image  \\\n",
              "0      1000268201_693b08cb0e.jpg   \n",
              "1      1000268201_693b08cb0e.jpg   \n",
              "2      1000268201_693b08cb0e.jpg   \n",
              "3      1000268201_693b08cb0e.jpg   \n",
              "4      1000268201_693b08cb0e.jpg   \n",
              "...                          ...   \n",
              "40450   997722733_0cb5439472.jpg   \n",
              "40451   997722733_0cb5439472.jpg   \n",
              "40452   997722733_0cb5439472.jpg   \n",
              "40453   997722733_0cb5439472.jpg   \n",
              "40454   997722733_0cb5439472.jpg   \n",
              "\n",
              "                                                 caption  \n",
              "0      A child in a pink dress is climbing up a set o...  \n",
              "1                  A girl going into a wooden building .  \n",
              "2       A little girl climbing into a wooden playhouse .  \n",
              "3      A little girl climbing the stairs to her playh...  \n",
              "4      A little girl in a pink dress going into a woo...  \n",
              "...                                                  ...  \n",
              "40450           A man in a pink shirt climbs a rock face  \n",
              "40451           A man is rock climbing high in the air .  \n",
              "40452  A person in a red shirt climbing up a rock fac...  \n",
              "40453                    A rock climber in a red shirt .  \n",
              "40454  A rock climber practices on a rock climbing wa...  \n",
              "\n",
              "[40455 rows x 2 columns]"
            ],
            "text/html": [
              "\n",
              "  <div id=\"df-eb7f4347-eaac-4f60-a410-834f2cb61dbc\">\n",
              "    <div class=\"colab-df-container\">\n",
              "      <div>\n",
              "<style scoped>\n",
              "    .dataframe tbody tr th:only-of-type {\n",
              "        vertical-align: middle;\n",
              "    }\n",
              "\n",
              "    .dataframe tbody tr th {\n",
              "        vertical-align: top;\n",
              "    }\n",
              "\n",
              "    .dataframe thead th {\n",
              "        text-align: right;\n",
              "    }\n",
              "</style>\n",
              "<table border=\"1\" class=\"dataframe\">\n",
              "  <thead>\n",
              "    <tr style=\"text-align: right;\">\n",
              "      <th></th>\n",
              "      <th>image</th>\n",
              "      <th>caption</th>\n",
              "    </tr>\n",
              "  </thead>\n",
              "  <tbody>\n",
              "    <tr>\n",
              "      <th>0</th>\n",
              "      <td>1000268201_693b08cb0e.jpg</td>\n",
              "      <td>A child in a pink dress is climbing up a set o...</td>\n",
              "    </tr>\n",
              "    <tr>\n",
              "      <th>1</th>\n",
              "      <td>1000268201_693b08cb0e.jpg</td>\n",
              "      <td>A girl going into a wooden building .</td>\n",
              "    </tr>\n",
              "    <tr>\n",
              "      <th>2</th>\n",
              "      <td>1000268201_693b08cb0e.jpg</td>\n",
              "      <td>A little girl climbing into a wooden playhouse .</td>\n",
              "    </tr>\n",
              "    <tr>\n",
              "      <th>3</th>\n",
              "      <td>1000268201_693b08cb0e.jpg</td>\n",
              "      <td>A little girl climbing the stairs to her playh...</td>\n",
              "    </tr>\n",
              "    <tr>\n",
              "      <th>4</th>\n",
              "      <td>1000268201_693b08cb0e.jpg</td>\n",
              "      <td>A little girl in a pink dress going into a woo...</td>\n",
              "    </tr>\n",
              "    <tr>\n",
              "      <th>...</th>\n",
              "      <td>...</td>\n",
              "      <td>...</td>\n",
              "    </tr>\n",
              "    <tr>\n",
              "      <th>40450</th>\n",
              "      <td>997722733_0cb5439472.jpg</td>\n",
              "      <td>A man in a pink shirt climbs a rock face</td>\n",
              "    </tr>\n",
              "    <tr>\n",
              "      <th>40451</th>\n",
              "      <td>997722733_0cb5439472.jpg</td>\n",
              "      <td>A man is rock climbing high in the air .</td>\n",
              "    </tr>\n",
              "    <tr>\n",
              "      <th>40452</th>\n",
              "      <td>997722733_0cb5439472.jpg</td>\n",
              "      <td>A person in a red shirt climbing up a rock fac...</td>\n",
              "    </tr>\n",
              "    <tr>\n",
              "      <th>40453</th>\n",
              "      <td>997722733_0cb5439472.jpg</td>\n",
              "      <td>A rock climber in a red shirt .</td>\n",
              "    </tr>\n",
              "    <tr>\n",
              "      <th>40454</th>\n",
              "      <td>997722733_0cb5439472.jpg</td>\n",
              "      <td>A rock climber practices on a rock climbing wa...</td>\n",
              "    </tr>\n",
              "  </tbody>\n",
              "</table>\n",
              "<p>40455 rows × 2 columns</p>\n",
              "</div>\n",
              "      <button class=\"colab-df-convert\" onclick=\"convertToInteractive('df-eb7f4347-eaac-4f60-a410-834f2cb61dbc')\"\n",
              "              title=\"Convert this dataframe to an interactive table.\"\n",
              "              style=\"display:none;\">\n",
              "        \n",
              "  <svg xmlns=\"http://www.w3.org/2000/svg\" height=\"24px\"viewBox=\"0 0 24 24\"\n",
              "       width=\"24px\">\n",
              "    <path d=\"M0 0h24v24H0V0z\" fill=\"none\"/>\n",
              "    <path d=\"M18.56 5.44l.94 2.06.94-2.06 2.06-.94-2.06-.94-.94-2.06-.94 2.06-2.06.94zm-11 1L8.5 8.5l.94-2.06 2.06-.94-2.06-.94L8.5 2.5l-.94 2.06-2.06.94zm10 10l.94 2.06.94-2.06 2.06-.94-2.06-.94-.94-2.06-.94 2.06-2.06.94z\"/><path d=\"M17.41 7.96l-1.37-1.37c-.4-.4-.92-.59-1.43-.59-.52 0-1.04.2-1.43.59L10.3 9.45l-7.72 7.72c-.78.78-.78 2.05 0 2.83L4 21.41c.39.39.9.59 1.41.59.51 0 1.02-.2 1.41-.59l7.78-7.78 2.81-2.81c.8-.78.8-2.07 0-2.86zM5.41 20L4 18.59l7.72-7.72 1.47 1.35L5.41 20z\"/>\n",
              "  </svg>\n",
              "      </button>\n",
              "      \n",
              "  <style>\n",
              "    .colab-df-container {\n",
              "      display:flex;\n",
              "      flex-wrap:wrap;\n",
              "      gap: 12px;\n",
              "    }\n",
              "\n",
              "    .colab-df-convert {\n",
              "      background-color: #E8F0FE;\n",
              "      border: none;\n",
              "      border-radius: 50%;\n",
              "      cursor: pointer;\n",
              "      display: none;\n",
              "      fill: #1967D2;\n",
              "      height: 32px;\n",
              "      padding: 0 0 0 0;\n",
              "      width: 32px;\n",
              "    }\n",
              "\n",
              "    .colab-df-convert:hover {\n",
              "      background-color: #E2EBFA;\n",
              "      box-shadow: 0px 1px 2px rgba(60, 64, 67, 0.3), 0px 1px 3px 1px rgba(60, 64, 67, 0.15);\n",
              "      fill: #174EA6;\n",
              "    }\n",
              "\n",
              "    [theme=dark] .colab-df-convert {\n",
              "      background-color: #3B4455;\n",
              "      fill: #D2E3FC;\n",
              "    }\n",
              "\n",
              "    [theme=dark] .colab-df-convert:hover {\n",
              "      background-color: #434B5C;\n",
              "      box-shadow: 0px 1px 3px 1px rgba(0, 0, 0, 0.15);\n",
              "      filter: drop-shadow(0px 1px 2px rgba(0, 0, 0, 0.3));\n",
              "      fill: #FFFFFF;\n",
              "    }\n",
              "  </style>\n",
              "\n",
              "      <script>\n",
              "        const buttonEl =\n",
              "          document.querySelector('#df-eb7f4347-eaac-4f60-a410-834f2cb61dbc button.colab-df-convert');\n",
              "        buttonEl.style.display =\n",
              "          google.colab.kernel.accessAllowed ? 'block' : 'none';\n",
              "\n",
              "        async function convertToInteractive(key) {\n",
              "          const element = document.querySelector('#df-eb7f4347-eaac-4f60-a410-834f2cb61dbc');\n",
              "          const dataTable =\n",
              "            await google.colab.kernel.invokeFunction('convertToInteractive',\n",
              "                                                     [key], {});\n",
              "          if (!dataTable) return;\n",
              "\n",
              "          const docLinkHtml = 'Like what you see? Visit the ' +\n",
              "            '<a target=\"_blank\" href=https://colab.research.google.com/notebooks/data_table.ipynb>data table notebook</a>'\n",
              "            + ' to learn more about interactive tables.';\n",
              "          element.innerHTML = '';\n",
              "          dataTable['output_type'] = 'display_data';\n",
              "          await google.colab.output.renderOutput(dataTable, element);\n",
              "          const docLink = document.createElement('div');\n",
              "          docLink.innerHTML = docLinkHtml;\n",
              "          element.appendChild(docLink);\n",
              "        }\n",
              "      </script>\n",
              "    </div>\n",
              "  </div>\n",
              "  "
            ]
          },
          "metadata": {},
          "execution_count": 35
        }
      ]
    },
    {
      "cell_type": "code",
      "source": [
        "data = data.groupby('image').apply(lambda x: x.head(3)).reset_index(drop=True)"
      ],
      "metadata": {
        "id": "HfrF8YZoHXQT"
      },
      "execution_count": null,
      "outputs": []
    },
    {
      "cell_type": "code",
      "source": [
        "data.shape"
      ],
      "metadata": {
        "colab": {
          "base_uri": "https://localhost:8080/"
        },
        "id": "9OdmCaQBHXTC",
        "outputId": "45da0263-4a53-402b-ccbc-c4724f7d5697"
      },
      "execution_count": null,
      "outputs": [
        {
          "output_type": "execute_result",
          "data": {
            "text/plain": [
              "(24273, 2)"
            ]
          },
          "metadata": {},
          "execution_count": 37
        }
      ]
    },
    {
      "cell_type": "code",
      "source": [
        "#train_df , val_df = train_test_split(data , test_size = 0.2)\n",
        "\n",
        "split_ratio = 0.7\n",
        "split_index = int(len(data) * split_ratio)\n",
        "\n",
        "train_df  = data[:split_index]\n",
        "val_df = data[split_index:]\n",
        "\n",
        "split_ratio2 = 0.5\n",
        "split_index2 = int(len(val_df) * split_ratio)\n",
        "\n",
        "validation_df = val_df[:split_index2]\n",
        "test_df= val_df[split_index2:]"
      ],
      "metadata": {
        "id": "Yr3YTOjznZYx",
        "execution": {
          "iopub.status.busy": "2023-06-06T09:27:46.766806Z",
          "iopub.execute_input": "2023-06-06T09:27:46.767183Z",
          "iopub.status.idle": "2023-06-06T09:27:46.774461Z",
          "shell.execute_reply.started": "2023-06-06T09:27:46.767152Z",
          "shell.execute_reply": "2023-06-06T09:27:46.772940Z"
        },
        "trusted": true
      },
      "execution_count": null,
      "outputs": []
    },
    {
      "cell_type": "code",
      "source": [
        "class ImgDataset(Dataset):\n",
        "    def __init__(self, df,root_dir,tokenizer,feature_extractor, transform = None):\n",
        "        self.df = df\n",
        "        self.transform = transform\n",
        "        self.root_dir = root_dir\n",
        "        self.tokenizer= tokenizer\n",
        "        self.feature_extractor = feature_extractor\n",
        "        self.max_length = 32\n",
        "    def __len__(self,):\n",
        "        return len(self.df)\n",
        "    def __getitem__(self,idx):\n",
        "        caption = self.df.caption.iloc[idx]\n",
        "        image = self.df.image.iloc[idx]\n",
        "        img_path = os.path.join(self.root_dir , image)\n",
        "        img = Image.open(img_path).convert(\"RGB\")\n",
        "        \n",
        "\n",
        "        if self.transform is not None:\n",
        "            img= self.transform(img)\n",
        "        pixel_values = self.feature_extractor(img, return_tensors=\"pt\").pixel_values.to(device)\n",
        "        captions = tokenizer(caption, max_length=self.max_length, \n",
        "                             padding=\"max_length\", truncation=True).input_ids\n",
        "        \n",
        "        encoding = {\"pixel_values\": pixel_values.squeeze(), \"labels\": torch.tensor(captions)}\n",
        "        return  encoding #{'pixel_values': pixel_values, 'labels':}"
      ],
      "metadata": {
        "id": "VaoY3jzasTfP",
        "execution": {
          "iopub.status.busy": "2023-06-06T09:27:47.244504Z",
          "iopub.execute_input": "2023-06-06T09:27:47.245224Z",
          "iopub.status.idle": "2023-06-06T09:27:47.254973Z",
          "shell.execute_reply.started": "2023-06-06T09:27:47.245188Z",
          "shell.execute_reply": "2023-06-06T09:27:47.253922Z"
        },
        "trusted": true
      },
      "execution_count": null,
      "outputs": []
    },
    {
      "cell_type": "code",
      "source": [
        "#Colab\n",
        "train_dataset = ImgDataset(train_df, root_dir = \"flickr8k/Images\",tokenizer=tokenizer,feature_extractor = image_processor  ,transform = train_transforms)\n",
        "validation_dataset = ImgDataset(validation_df, root_dir = \"flickr8k/Images\",tokenizer=tokenizer,feature_extractor = image_processor  ,transform = train_transforms)\n",
        "test_dataset = ImgDataset(test_df, root_dir = \"flickr8k/Images\",tokenizer=tokenizer,feature_extractor = image_processor  ,transform = train_transforms)\n",
        "\n",
        "#Kaggle\n",
        "'''train_dataset = ImgDataset(train_df, root_dir = \"/kaggle/input/flickr8kimagescaptions/flickr8k/images/\",tokenizer=tokenizer,feature_extractor = image_processor  ,transform = train_transforms)\n",
        "validation_dataset = ImgDataset(validation_df, root_dir = \"/kaggle/input/flickr8kimagescaptions/flickr8k/images/\",tokenizer=tokenizer,feature_extractor = image_processor  ,transform = train_transforms)\n",
        "test_dataset = ImgDataset(test_df, root_dir = \"/kaggle/input/flickr8kimagescaptions/flickr8k/images/\",tokenizer=tokenizer,feature_extractor = image_processor  ,transform = train_transforms)\n",
        "'''"
      ],
      "metadata": {
        "id": "o3K6ikZIsewr",
        "execution": {
          "iopub.status.busy": "2023-06-06T09:28:42.775770Z",
          "iopub.execute_input": "2023-06-06T09:28:42.776269Z",
          "iopub.status.idle": "2023-06-06T09:28:42.787637Z",
          "shell.execute_reply.started": "2023-06-06T09:28:42.776189Z",
          "shell.execute_reply": "2023-06-06T09:28:42.786368Z"
        },
        "trusted": true,
        "colab": {
          "base_uri": "https://localhost:8080/",
          "height": 122
        },
        "outputId": "baa6641a-ef59-48a8-a8e2-8cb563077205"
      },
      "execution_count": null,
      "outputs": [
        {
          "output_type": "execute_result",
          "data": {
            "text/plain": [
              "'train_dataset = ImgDataset(train_df, root_dir = \"/kaggle/input/flickr8kimagescaptions/flickr8k/images/\",tokenizer=tokenizer,feature_extractor = image_processor  ,transform = train_transforms)\\nvalidation_dataset = ImgDataset(validation_df, root_dir = \"/kaggle/input/flickr8kimagescaptions/flickr8k/images/\",tokenizer=tokenizer,feature_extractor = image_processor  ,transform = train_transforms)\\ntest_dataset = ImgDataset(test_df, root_dir = \"/kaggle/input/flickr8kimagescaptions/flickr8k/images/\",tokenizer=tokenizer,feature_extractor = image_processor  ,transform = train_transforms)\\n'"
            ],
            "application/vnd.google.colaboratory.intrinsic+json": {
              "type": "string"
            }
          },
          "metadata": {},
          "execution_count": 40
        }
      ]
    },
    {
      "cell_type": "code",
      "source": [
        "for item in train_dataset:\n",
        "    print(\"train_dataset\", item[\"labels\"].shape)\n",
        "    print(\"train_dataset\", item[\"pixel_values\"].shape)\n",
        "    break\n",
        "for item in validation_dataset:\n",
        "    print(\"validation_dataset\", item[\"labels\"].shape)\n",
        "    print(\"validation_dataset\", item[\"pixel_values\"].shape)\n",
        "    break\n",
        "for item in test_dataset:\n",
        "    print(\"test_dataset\", item[\"labels\"].shape)\n",
        "    print(\"test_dataset\", item[\"pixel_values\"].shape)\n",
        "    break"
      ],
      "metadata": {
        "id": "59cVY0BsdHvf",
        "outputId": "936c7707-edb5-4b29-a0a3-a6816c7eb924",
        "execution": {
          "iopub.status.busy": "2023-06-06T09:28:46.306781Z",
          "iopub.execute_input": "2023-06-06T09:28:46.307318Z",
          "iopub.status.idle": "2023-06-06T09:28:46.394135Z",
          "shell.execute_reply.started": "2023-06-06T09:28:46.307277Z",
          "shell.execute_reply": "2023-06-06T09:28:46.393233Z"
        },
        "trusted": true,
        "colab": {
          "base_uri": "https://localhost:8080/"
        }
      },
      "execution_count": null,
      "outputs": [
        {
          "output_type": "stream",
          "name": "stdout",
          "text": [
            "train_dataset torch.Size([32])\n",
            "train_dataset torch.Size([3, 224, 224])\n",
            "validation_dataset torch.Size([32])\n",
            "validation_dataset torch.Size([3, 224, 224])\n",
            "test_dataset torch.Size([32])\n",
            "test_dataset torch.Size([3, 224, 224])\n"
          ]
        }
      ]
    },
    {
      "cell_type": "markdown",
      "source": [
        "# Model Training"
      ],
      "metadata": {
        "id": "0t1K7z8mstcu"
      }
    },
    {
      "cell_type": "markdown",
      "source": [
        "## Evaluation Metrics"
      ],
      "metadata": {
        "id": "ftr3-zpIoUAU"
      }
    },
    {
      "cell_type": "code",
      "source": [
        "\n",
        "rouge = evaluate.load(\"rouge\")\n",
        "bleu = evaluate.load(\"bleu\")\n",
        "meteor =  evaluate.load(\"meteor\")\n",
        "\n",
        "def compute_metrics(eval_pred):\n",
        "    preds = eval_pred.label_ids\n",
        "    labels = eval_pred.predictions\n",
        "\n",
        "    pred_str = tokenizer.batch_decode(preds, skip_special_tokens=True)\n",
        "    labels_str = tokenizer.batch_decode(labels, skip_special_tokens=True)\n",
        "\n",
        "    #rouge score\n",
        "    rouge_result = rouge.compute(predictions=pred_str, references=labels_str)\n",
        "    rouge_result =  {k: round(v * 100, 4) for k, v in rouge_result.items()}\n",
        "\n",
        "    # meteor\n",
        "    meteor_result = meteor.compute(predictions=pred_str, references=labels_str)\n",
        "\n",
        "    # bleu scores\n",
        "    bleu1_result = bleu.compute(predictions=pred_str, references=labels_str, max_order =1)\n",
        "    bleu2_result = bleu.compute(predictions=pred_str, references=labels_str, max_order =2)\n",
        "    bleu3_result = bleu.compute(predictions=pred_str, references=labels_str, max_order =3)\n",
        "    bleu4_result = bleu.compute(predictions=pred_str, references=labels_str, max_order =4)\n",
        "    \n",
        "    generation_length = bleu4_result[\"translation_length\"]\n",
        "    '''#  cider\n",
        "    # convert lists to dictionaries\n",
        "    ref_captions = {image_id: [caption] for image_id, caption in enumerate(labels_str)}\n",
        "    pred_captions = {image_id: [caption] for image_id, caption in enumerate(pred_str)}\n",
        "\n",
        "    cider_scorer = Cider()\n",
        "    cider_score, cider_scores = cider_scorer.compute_score(ref_captions, pred_captions)\n",
        "    #spice\n",
        "    spice_scorer = Spice()\n",
        "    spice_score, spice_scores = spice_scorer.compute_score(ref_captions, pred_captions)'''\n",
        "    return {\n",
        "      **rouge_result, \n",
        "      \"meteor\": round(meteor_result['meteor']*100, 2) , #round(meteor_result['meteor'], 4),\n",
        "      \"bleu1\": round(bleu1_result[\"bleu\"] * 100, 4), #round(bleu1_result[\"bleu\"] , 4), \n",
        "      \"bleu2\": round(bleu2_result[\"bleu\"] * 100, 4), # round(bleu2_result[\"bleu\"], 4), \n",
        "      \"bleu3\": round(bleu3_result[\"bleu\"] * 100, 4), #round(bleu3_result[\"bleu\"] , 4), \n",
        "      \"bleu4\": round(bleu4_result[\"bleu\"]* 100 , 4),#round(bleu4_result[\"bleu\"] , 4)\n",
        "      #\"cider\": cider_score,\n",
        "      #\"spice\": spice_scores\n",
        "       #\"gen_len\": bleu4_result[\"translation_length\"] / len(preds)\n",
        "      }"
      ],
      "metadata": {
        "id": "JwTFZhjFc09x",
        "outputId": "babe6325-178d-471a-c078-a224c15b3349",
        "execution": {
          "iopub.status.busy": "2023-06-06T09:28:51.157239Z",
          "iopub.execute_input": "2023-06-06T09:28:51.157637Z",
          "iopub.status.idle": "2023-06-06T09:28:53.421830Z",
          "shell.execute_reply.started": "2023-06-06T09:28:51.157604Z",
          "shell.execute_reply": "2023-06-06T09:28:53.420787Z"
        },
        "trusted": true,
        "colab": {
          "base_uri": "https://localhost:8080/",
          "height": 264,
          "referenced_widgets": [
            "afd772a3cf92451287b98c313647453c",
            "56f8b61602f04791977da819f440ea4e",
            "7c276a0cbedb48559bff77dd44f4d05d",
            "9367a893cc66421b9b51767444f1762d",
            "968542fb19cc4876952d978a241d9e26",
            "f13d4fa1d4964e9d8736eb0d7942a83d",
            "be9b362164324610adabf2a401014bcc",
            "3610033db61d4db59b79aefc3380980d",
            "9cb1cb6469694b27914e163561914ca6",
            "714e083a9f9f4524a819fe779e15dc74",
            "9e06782d6fad4048a78085c519387c93",
            "01af2c6a2a6c49f3b4da241fbb31e155",
            "8ed1e69af6f944cfb0f703a7b0bd4a77",
            "613b6770f3d64979aca0d2a82710194e",
            "43744320b4af46aa808b71f8bc048959",
            "6e46adf6050a4b789a1023277ec5b183",
            "7cfde1025d78491b99208a21f13b3852",
            "581feca4ccf846c687c20c14d08ed672",
            "c5f5ed003a1d46a392a52b9d280bdead",
            "2843dc4f652d4a3ab648bd6ba069182c",
            "8c274b7842724794a7fa21429d5e921e",
            "798bed40cfaa4189b9002e6b82f0dd4e",
            "76f6175004c34ecdbdb1ff39750ef484",
            "f2c9a5d0f2a246998f9125c4819fc359",
            "76d4c5f09e694bdc899cbe45151c62a5",
            "9cca86d0bb91469382496f60a27cd9b6",
            "13bd3930b59344c2b040e6066b53564e",
            "960d59d8c1fe43e8a52b6cb07395b66f",
            "dc2ffbaab405420b844a6ad9dd3364ef",
            "5a1b404acada4755b0fe49934b6cdcb8",
            "425a924ae7414d71a14e680dea651995",
            "b5c9c5c81fba44489c6901a154f9d028",
            "2003c18e77f74e9ca2543598f74d6b03",
            "593481f82e1040d884f89b4cf3617450",
            "8b8d00a2129e42299033668c87b7efcc",
            "cfd2f4b8aa36469784ebdd42edcef4b6",
            "32206ca6d8394bbc9e22b74191b03a41",
            "e1791277a6134eeda64f876f129df2a3",
            "5f2f0a7aadd948e39b3460b4e281e579",
            "4c97af76dba64686ae78df4eb3c4ee85",
            "9212e7e766bd4d678a8868adb4229bf2",
            "6eac2409540242888a71fba83ebb8ebe",
            "36a5a311fbf84240a88e3f75db9f5bf3",
            "b82fce160b1a4d478dd6dcc09e483b5c",
            "adc42f324e974b48a6f442fcfeed59f3",
            "1fbf8a4b46e543a5bed200a792846bc5",
            "adac6febce384774b34142fb55d22f22",
            "e23eac58d15445e685b9960ac5aaae82",
            "36cdcdde7e824007bb36e319d551d200",
            "eb08d126cc6a461c86799519486fa608",
            "599db09ab4e941fb9edeb3900a63d86d",
            "8d40c5587b3e43b2bdda12476248d80f",
            "599f4eba649747dab0b1926d58e213fa",
            "15a0223ee3b54d76b534b0306baace36",
            "cb9111157f5146f0b0992ff4b99cd107"
          ]
        }
      },
      "execution_count": null,
      "outputs": [
        {
          "output_type": "display_data",
          "data": {
            "text/plain": [
              "Downloading builder script:   0%|          | 0.00/6.27k [00:00<?, ?B/s]"
            ],
            "application/vnd.jupyter.widget-view+json": {
              "version_major": 2,
              "version_minor": 0,
              "model_id": "afd772a3cf92451287b98c313647453c"
            }
          },
          "metadata": {}
        },
        {
          "output_type": "display_data",
          "data": {
            "text/plain": [
              "Downloading builder script:   0%|          | 0.00/5.94k [00:00<?, ?B/s]"
            ],
            "application/vnd.jupyter.widget-view+json": {
              "version_major": 2,
              "version_minor": 0,
              "model_id": "01af2c6a2a6c49f3b4da241fbb31e155"
            }
          },
          "metadata": {}
        },
        {
          "output_type": "display_data",
          "data": {
            "text/plain": [
              "Downloading extra modules:   0%|          | 0.00/1.55k [00:00<?, ?B/s]"
            ],
            "application/vnd.jupyter.widget-view+json": {
              "version_major": 2,
              "version_minor": 0,
              "model_id": "76f6175004c34ecdbdb1ff39750ef484"
            }
          },
          "metadata": {}
        },
        {
          "output_type": "display_data",
          "data": {
            "text/plain": [
              "Downloading extra modules:   0%|          | 0.00/3.34k [00:00<?, ?B/s]"
            ],
            "application/vnd.jupyter.widget-view+json": {
              "version_major": 2,
              "version_minor": 0,
              "model_id": "593481f82e1040d884f89b4cf3617450"
            }
          },
          "metadata": {}
        },
        {
          "output_type": "display_data",
          "data": {
            "text/plain": [
              "Downloading builder script:   0%|          | 0.00/6.81k [00:00<?, ?B/s]"
            ],
            "application/vnd.jupyter.widget-view+json": {
              "version_major": 2,
              "version_minor": 0,
              "model_id": "adc42f324e974b48a6f442fcfeed59f3"
            }
          },
          "metadata": {}
        },
        {
          "output_type": "stream",
          "name": "stderr",
          "text": [
            "[nltk_data] Downloading package wordnet to /root/nltk_data...\n",
            "[nltk_data]   Package wordnet is already up-to-date!\n",
            "[nltk_data] Downloading package punkt to /root/nltk_data...\n",
            "[nltk_data]   Unzipping tokenizers/punkt.zip.\n",
            "[nltk_data] Downloading package omw-1.4 to /root/nltk_data...\n"
          ]
        }
      ]
    },
    {
      "cell_type": "code",
      "source": [
        "# collate lists of samples into batches\n",
        "def collate_fn(batch):\n",
        "    return {\n",
        "        'pixel_values': torch.stack([x['pixel_values'] for x in batch]),\n",
        "        'labels': torch.stack([x['labels'] for x in batch])\n",
        "    }"
      ],
      "metadata": {
        "id": "G5uNu7LgwPG4",
        "execution": {
          "iopub.status.busy": "2023-06-06T09:28:58.035948Z",
          "iopub.execute_input": "2023-06-06T09:28:58.036871Z",
          "iopub.status.idle": "2023-06-06T09:28:58.043101Z",
          "shell.execute_reply.started": "2023-06-06T09:28:58.036825Z",
          "shell.execute_reply": "2023-06-06T09:28:58.041886Z"
        },
        "trusted": true
      },
      "execution_count": null,
      "outputs": []
    },
    {
      "cell_type": "code",
      "source": [
        "num_epochs = 10\n",
        "batch_size = 16 "
      ],
      "metadata": {
        "id": "jhhKgSqfwc-f",
        "execution": {
          "iopub.status.busy": "2023-06-06T09:43:45.881096Z",
          "iopub.execute_input": "2023-06-06T09:43:45.881689Z",
          "iopub.status.idle": "2023-06-06T09:43:45.888364Z",
          "shell.execute_reply.started": "2023-06-06T09:43:45.881639Z",
          "shell.execute_reply": "2023-06-06T09:43:45.887235Z"
        },
        "trusted": true
      },
      "execution_count": null,
      "outputs": []
    },
    {
      "cell_type": "code",
      "source": [
        "\n",
        "training_args = Seq2SeqTrainingArguments(\n",
        "    predict_with_generate=True,             \n",
        "    num_train_epochs=num_epochs,      \n",
        "    evaluation_strategy=\"steps\", \n",
        "    learning_rate = 1.5e-6,\n",
        "    optim = \"adamw_torch\",\n",
        "    eval_steps=2500,                     \n",
        "    logging_steps=2500,                   \n",
        "    save_steps=2500,                        \n",
        "    per_device_train_batch_size=batch_size,\n",
        "    per_device_eval_batch_size=batch_size,  \n",
        "    output_dir=\"AsmaMassad/swin-gpt2-image-captioning-flickr8k\",\n",
        "    load_best_model_at_end=True,\n",
        "    push_to_hub=True # push the model to huggingface hub,\n",
        ")\n"
      ],
      "metadata": {
        "id": "_bzcx9HsteVU",
        "outputId": "c3c9e7fd-684c-4e90-8b63-b2790f21957a",
        "execution": {
          "iopub.status.busy": "2023-06-06T09:43:49.256261Z",
          "iopub.execute_input": "2023-06-06T09:43:49.256647Z",
          "iopub.status.idle": "2023-06-06T09:43:49.270248Z",
          "shell.execute_reply.started": "2023-06-06T09:43:49.256613Z",
          "shell.execute_reply": "2023-06-06T09:43:49.268857Z"
        },
        "trusted": true,
        "colab": {
          "base_uri": "https://localhost:8080/"
        }
      },
      "execution_count": null,
      "outputs": [
        {
          "output_type": "stream",
          "name": "stderr",
          "text": [
            "Using the `WANDB_DISABLED` environment variable is deprecated and will be removed in v5. Use the --report_to flag to control the integrations used for logging result (for instance --report_to none).\n"
          ]
        }
      ]
    },
    {
      "cell_type": "code",
      "source": [
        "from huggingface_hub import notebook_login\n",
        "notebook_login()"
      ],
      "metadata": {
        "execution": {
          "iopub.status.busy": "2023-06-06T09:29:58.225114Z",
          "iopub.execute_input": "2023-06-06T09:29:58.225463Z",
          "iopub.status.idle": "2023-06-06T09:29:58.260292Z",
          "shell.execute_reply.started": "2023-06-06T09:29:58.225434Z",
          "shell.execute_reply": "2023-06-06T09:29:58.259451Z"
        },
        "trusted": true,
        "colab": {
          "base_uri": "https://localhost:8080/",
          "height": 162,
          "referenced_widgets": [
            "f89310d0f0b44be29240095541842d88",
            "36d327b52c6745a08a5f2ee026db1da5",
            "6b95eda4c09b47ad93dcf99072229226",
            "6d2dba1c7f3646839bdb16529851edb4",
            "247b63b1384744a682d2655650391a01",
            "27a39be256db4696a43db4a33621b1c1",
            "1c8fc25ffc6b463e8f3ac5781dfb71bf",
            "1ede547469204111aac8646a2a223f82",
            "29c0e9f603b54094b3814a9c1c8050b7",
            "d50e3e9854564404a7e74ba5f155ce86",
            "9371da113a894325868d098fda0a707a",
            "010c4e299fb8412b906194c57652d92a",
            "bf7c847e52fa45939684f6f384827e06",
            "c1428ac9994841d09be26d2faf415399",
            "09f30bce9dba4bdfb00dc5827946db90",
            "1b61e4ee6abc4e49aa15c1c2d72d9a27",
            "fae9de69ec6b4bad9a84ea35311190d0",
            "c62dbd9ef49c4c3b8519bb116b2e0836",
            "4ea24f308c934b4dbbd5c53691b8e55d",
            "91d80621b8034b27a66bbeeb25560194",
            "43c0a3ce037848ae9f3a0cbc196f8980",
            "f24aaec0b81e498389b5b041d0829a05",
            "3adb023f9e3449839e28cce59c4f18d5",
            "f581367f3ccf4113b76ab663bd6b10e4",
            "9151c18640b34a9a97d8a215dc7e96fd",
            "55cd2eecbfe2451989df89771a7371ba",
            "d89aef5f3d6c46f58481a8fe053182ad",
            "fe80eec7d66342f4ab9ad926eeddcf18",
            "fcd1de6c8e63428287e324d069ed3408",
            "4610c007d55a4e3dad08c3dd8e650807",
            "dcd792ed4e3a43f7a1f442abfa93b77c",
            "0f06496bf405424e85654ae0c51f9667"
          ]
        },
        "id": "XIznBnsaGgpN",
        "outputId": "edb23e3a-e732-4a95-dcb8-a224ff231bb1"
      },
      "execution_count": null,
      "outputs": [
        {
          "output_type": "display_data",
          "data": {
            "text/plain": [
              "VBox(children=(HTML(value='<center> <img\\nsrc=https://huggingface.co/front/assets/huggingface_logo-noborder.sv…"
            ],
            "application/vnd.jupyter.widget-view+json": {
              "version_major": 2,
              "version_minor": 0,
              "model_id": "f89310d0f0b44be29240095541842d88"
            }
          },
          "metadata": {}
        }
      ]
    },
    {
      "cell_type": "code",
      "source": [
        "trainer = Seq2SeqTrainer(\n",
        "    model=model,                  \n",
        "    tokenizer=image_processor,    \n",
        "    args=training_args,              \n",
        "    compute_metrics=compute_metrics, \n",
        "    train_dataset=train_dataset,     \n",
        "    eval_dataset=validation_dataset,      \n",
        "    data_collator=collate_fn,        \n",
        ")"
      ],
      "metadata": {
        "id": "zuV_iD-Wt6C9",
        "execution": {
          "iopub.status.busy": "2023-06-06T09:44:00.409582Z",
          "iopub.execute_input": "2023-06-06T09:44:00.410061Z",
          "iopub.status.idle": "2023-06-06T09:44:04.061714Z",
          "shell.execute_reply.started": "2023-06-06T09:44:00.410013Z",
          "shell.execute_reply": "2023-06-06T09:44:04.060710Z"
        },
        "trusted": true,
        "colab": {
          "base_uri": "https://localhost:8080/"
        },
        "outputId": "4992a9d6-635b-4234-e61a-fcec67769cc3"
      },
      "execution_count": null,
      "outputs": [
        {
          "output_type": "stream",
          "name": "stderr",
          "text": [
            "Cloning https://huggingface.co/AsmaMassad/swin-gpt2-image-captioning-flickr8k into local empty directory.\n",
            "WARNING:huggingface_hub.repository:Cloning https://huggingface.co/AsmaMassad/swin-gpt2-image-captioning-flickr8k into local empty directory.\n"
          ]
        }
      ]
    },
    {
      "cell_type": "code",
      "source": [
        "from torch.utils.data import DataLoader\n",
        "\n",
        "def get_eval_loader(eval_dataset=None):\n",
        "    return DataLoader(validation_dataset, collate_fn=collate_fn, batch_size=batch_size)\n",
        "\n",
        "def get_test_loader(eval_dataset=None):\n",
        "    return DataLoader(test_dataset, collate_fn=collate_fn, batch_size=batch_size)\n",
        "\n",
        "trainer.get_train_dataloader = lambda: DataLoader(train_dataset, collate_fn=collate_fn, batch_size=batch_size)\n",
        "trainer.get_eval_dataloader = get_eval_loader\n",
        "trainer.get_test_dataloader = get_test_loader"
      ],
      "metadata": {
        "id": "4xH1bkve0wim",
        "execution": {
          "iopub.status.busy": "2023-06-06T09:44:04.063694Z",
          "iopub.execute_input": "2023-06-06T09:44:04.064077Z",
          "iopub.status.idle": "2023-06-06T09:44:04.070470Z",
          "shell.execute_reply.started": "2023-06-06T09:44:04.064034Z",
          "shell.execute_reply": "2023-06-06T09:44:04.069450Z"
        },
        "trusted": true
      },
      "execution_count": null,
      "outputs": []
    },
    {
      "cell_type": "code",
      "source": [
        "trainer.train( )"
      ],
      "metadata": {
        "id": "uffotMCi07H1",
        "outputId": "f4187eb2-a2d9-4b07-f9a0-a3770ccf6437",
        "execution": {
          "iopub.status.busy": "2023-06-06T09:44:04.071516Z",
          "iopub.execute_input": "2023-06-06T09:44:04.072214Z"
        },
        "trusted": true,
        "colab": {
          "base_uri": "https://localhost:8080/",
          "height": 383
        }
      },
      "execution_count": null,
      "outputs": [
        {
          "data": {
            "text/html": [
              "\n",
              "    <div>\n",
              "      \n",
              "      <progress value='2453' max='10620' style='width:300px; height:20px; vertical-align: middle;'></progress>\n",
              "      [ 2453/10620 40:17 < 2:14:16, 1.01 it/s, Epoch 2.31/10]\n",
              "    </div>\n",
              "    <table border=\"1\" class=\"dataframe\">\n",
              "  <thead>\n",
              " <tr style=\"text-align: left;\">\n",
              "      <th>Step</th>\n",
              "      <th>Training Loss</th>\n",
              "      <th>Validation Loss</th>\n",
              "    </tr>\n",
              "  </thead>\n",
              "  <tbody>\n",
              "  </tbody>\n",
              "</table><p>"
            ],
            "text/plain": [
              "<IPython.core.display.HTML object>"
            ]
          },
          "metadata": {},
          "output_type": "display_data"
        },
        {
          "output_type": "display_data",
          "data": {
            "text/plain": [
              "<IPython.core.display.HTML object>"
            ],
            "text/html": [
              "\n",
              "    <div>\n",
              "      \n",
              "      <progress value='10620' max='10620' style='width:300px; height:20px; vertical-align: middle;'></progress>\n",
              "      [10620/10620 3:36:02, Epoch 10/10]\n",
              "    </div>\n",
              "    <table border=\"1\" class=\"dataframe\">\n",
              "  <thead>\n",
              " <tr style=\"text-align: left;\">\n",
              "      <th>Step</th>\n",
              "      <th>Training Loss</th>\n",
              "      <th>Validation Loss</th>\n",
              "      <th>Rouge1</th>\n",
              "      <th>Rouge2</th>\n",
              "      <th>Rougel</th>\n",
              "      <th>Rougelsum</th>\n",
              "      <th>Meteor</th>\n",
              "      <th>Bleu1</th>\n",
              "      <th>Bleu2</th>\n",
              "      <th>Bleu3</th>\n",
              "      <th>Bleu4</th>\n",
              "    </tr>\n",
              "  </thead>\n",
              "  <tbody>\n",
              "    <tr>\n",
              "      <td>2500</td>\n",
              "      <td>1.387200</td>\n",
              "      <td>1.178716</td>\n",
              "      <td>20.089000</td>\n",
              "      <td>2.494900</td>\n",
              "      <td>19.057800</td>\n",
              "      <td>19.054200</td>\n",
              "      <td>16.620000</td>\n",
              "      <td>23.583000</td>\n",
              "      <td>7.127900</td>\n",
              "      <td>3.456000</td>\n",
              "      <td>1.965400</td>\n",
              "    </tr>\n",
              "    <tr>\n",
              "      <td>5000</td>\n",
              "      <td>1.192200</td>\n",
              "      <td>1.149706</td>\n",
              "      <td>21.872800</td>\n",
              "      <td>3.553000</td>\n",
              "      <td>20.347200</td>\n",
              "      <td>20.338700</td>\n",
              "      <td>13.830000</td>\n",
              "      <td>20.399800</td>\n",
              "      <td>7.708100</td>\n",
              "      <td>3.556800</td>\n",
              "      <td>1.987900</td>\n",
              "    </tr>\n",
              "    <tr>\n",
              "      <td>7500</td>\n",
              "      <td>1.165600</td>\n",
              "      <td>1.143236</td>\n",
              "      <td>21.520500</td>\n",
              "      <td>3.940500</td>\n",
              "      <td>20.061500</td>\n",
              "      <td>20.054200</td>\n",
              "      <td>12.430000</td>\n",
              "      <td>17.934800</td>\n",
              "      <td>7.330500</td>\n",
              "      <td>3.483800</td>\n",
              "      <td>1.970900</td>\n",
              "    </tr>\n",
              "    <tr>\n",
              "      <td>10000</td>\n",
              "      <td>1.150800</td>\n",
              "      <td>1.139280</td>\n",
              "      <td>22.142100</td>\n",
              "      <td>3.898700</td>\n",
              "      <td>20.563400</td>\n",
              "      <td>20.559400</td>\n",
              "      <td>13.610000</td>\n",
              "      <td>20.256300</td>\n",
              "      <td>7.794400</td>\n",
              "      <td>3.608000</td>\n",
              "      <td>2.040900</td>\n",
              "    </tr>\n",
              "  </tbody>\n",
              "</table><p>"
            ]
          },
          "metadata": {}
        },
        {
          "output_type": "stream",
          "name": "stderr",
          "text": [
            "/usr/local/lib/python3.10/dist-packages/transformers/generation/utils.py:1255: UserWarning: You have modified the pretrained model configuration to control generation. This is a deprecated strategy to control generation and will be removed soon, in a future version. Please use a generation configuration file (see https://huggingface.co/docs/transformers/main_classes/text_generation)\n",
            "  warnings.warn(\n"
          ]
        },
        {
          "output_type": "execute_result",
          "data": {
            "text/plain": [
              "TrainOutput(global_step=10620, training_loss=1.2198038334675876, metrics={'train_runtime': 12970.6702, 'train_samples_per_second': 13.1, 'train_steps_per_second': 0.819, 'total_flos': 3.0837741499339407e+19, 'train_loss': 1.2198038334675876, 'epoch': 10.0})"
            ]
          },
          "metadata": {},
          "execution_count": 49
        }
      ]
    },
    {
      "cell_type": "code",
      "source": [
        "# evaluate on the test_dataset\n",
        "trainer.evaluate(test_dataset)"
      ],
      "metadata": {
        "id": "julgp_iuRcmD",
        "outputId": "1825ccc5-79cc-4e56-8254-2be877bc81c8",
        "trusted": true,
        "colab": {
          "base_uri": "https://localhost:8080/",
          "height": 280
        }
      },
      "execution_count": null,
      "outputs": [
        {
          "output_type": "display_data",
          "data": {
            "text/plain": [
              "<IPython.core.display.HTML object>"
            ],
            "text/html": [
              "\n",
              "    <div>\n",
              "      \n",
              "      <progress value='319' max='319' style='width:300px; height:20px; vertical-align: middle;'></progress>\n",
              "      [319/319 09:14]\n",
              "    </div>\n",
              "    "
            ]
          },
          "metadata": {}
        },
        {
          "output_type": "execute_result",
          "data": {
            "text/plain": [
              "{'eval_loss': 1.139279842376709,\n",
              " 'eval_rouge1': 22.1421,\n",
              " 'eval_rouge2': 3.8987,\n",
              " 'eval_rougeL': 20.5634,\n",
              " 'eval_rougeLsum': 20.5594,\n",
              " 'eval_meteor': 13.61,\n",
              " 'eval_bleu1': 20.2563,\n",
              " 'eval_bleu2': 7.7944,\n",
              " 'eval_bleu3': 3.608,\n",
              " 'eval_bleu4': 2.0409,\n",
              " 'eval_runtime': 565.4312,\n",
              " 'eval_samples_per_second': 9.014,\n",
              " 'eval_steps_per_second': 0.564,\n",
              " 'epoch': 10.0}"
            ]
          },
          "metadata": {},
          "execution_count": 50
        }
      ]
    },
    {
      "cell_type": "code",
      "source": [
        "'''beam_outputs = model.generate(\n",
        "    input_ids, \n",
        "    max_length=50, \n",
        "    num_beams=5, \n",
        "    no_repeat_ngram_size=2, \n",
        "    num_return_sequences=5, \n",
        "    early_stopping=True\n",
        ")'''"
      ],
      "metadata": {
        "id": "kPkmT0E3xSi4"
      },
      "execution_count": null,
      "outputs": []
    }
  ]
}